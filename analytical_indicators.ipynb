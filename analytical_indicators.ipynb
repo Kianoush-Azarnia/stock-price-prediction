{
 "cells": [
  {
   "cell_type": "code",
   "execution_count": 21,
   "outputs": [
    {
     "name": "stdout",
     "output_type": "stream",
     "text": [
      "373\n"
     ]
    }
   ],
   "source": [
    "import numpy as np\n",
    "import pandas as pd\n",
    "import os\n",
    "import random\n",
    "import copy\n",
    "\n",
    "# Calculation of Relative Strength Index (RSI)\n",
    "pd.set_option('display.max_columns', None)\n",
    "pd.set_option('display.max_rows', None)\n",
    "\n",
    "dirname = os.path.abspath('')\n",
    "data_path = os.path.join(dirname, 'Data')\n",
    "\n",
    "stocks_df = pd.read_csv(data_path + '\\\\' + 'stocks_with_next_changes.csv', encoding='utf-8')\n",
    "\n",
    "stocks = stocks_df['persian_symbol'].unique().tolist()\n",
    "print(len(stocks))"
   ],
   "metadata": {
    "collapsed": false,
    "pycharm": {
     "name": "#%%\n"
    }
   }
  },
  {
   "cell_type": "code",
   "execution_count": 25,
   "outputs": [
    {
     "name": "stdout",
     "output_type": "stream",
     "text": [
      "done\n"
     ]
    }
   ],
   "source": [
    "indicators_df = pd.read_csv(data_path + '\\\\' + 'stocks_with_indicators.csv', encoding='utf-8')\n",
    "\n",
    "print(indicators_df.columns)"
   ],
   "metadata": {
    "collapsed": false,
    "pycharm": {
     "name": "#%%\n"
    }
   }
  },
  {
   "cell_type": "code",
   "execution_count": 22,
   "outputs": [
    {
     "name": "stdout",
     "output_type": "stream",
     "text": [
      "done\n"
     ]
    }
   ],
   "source": [
    "stocks_df['Momentum_1D'] = 0\n",
    "\n",
    "def rsi(values):\n",
    "    up = values[values > 0].mean()\n",
    "    down = -1 * values[values < 0].mean()\n",
    "    return 100 * up / (up + down)\n",
    "\n",
    "for stock in stocks:\n",
    "    stocks_df.loc[stocks_df['persian_symbol'] == stock, 'Momentum_1D'] = (\n",
    "        stocks_df.loc[stocks_df['persian_symbol'] == stock, 'final_price'] -\n",
    "        stocks_df.loc[stocks_df['persian_symbol'] == stock, 'final_price'].shift(1)\n",
    "    ).fillna(0)\n",
    "\n",
    "    stocks_df.loc[stocks_df['persian_symbol'] == stock, 'RSI_5D'] = \\\n",
    "        stocks_df.loc[stocks_df['persian_symbol'] == stock, 'Momentum_1D'].rolling(center=False, window=5). \\\n",
    "        apply(rsi).fillna(0)\n",
    "\n",
    "stocks_df.to_csv(\n",
    "    data_path + '\\\\' + 'stocks_with_indicators.csv', encoding='utf-8-sig', index=False)\n",
    "\n",
    "print(\"done\")"
   ],
   "metadata": {
    "collapsed": false,
    "pycharm": {
     "name": "#%%\n"
    }
   }
  },
  {
   "cell_type": "code",
   "execution_count": 4,
   "outputs": [],
   "source": [
    "# Calculation of Volume (Plain)\n",
    "\n",
    "indicators_df['Volume_plain'] = indicators_df['volume'].fillna(0)\n",
    "\n",
    "indicators_df.to_csv(\n",
    "    data_path + '\\\\' + 'stocks_with_indicators.csv', encoding='utf-8-sig', index=False)\n"
   ],
   "metadata": {
    "collapsed": false,
    "pycharm": {
     "name": "#%%\n"
    }
   }
  },
  {
   "cell_type": "code",
   "execution_count": 6,
   "outputs": [],
   "source": [
    "# Calculation of Bollinger Bands\n",
    "def bbands(price, length=30, numsd=2):\n",
    "    \"\"\" returns average, upper band, and lower band\"\"\"\n",
    "    #ave = pd.stats.moments.rolling_mean(price,length)\n",
    "    ave = price.rolling(window = length, center = False).mean()\n",
    "    #sd = pd.stats.moments.rolling_std(price,length)\n",
    "    sd = price.rolling(window = length, center = False).std()\n",
    "    upband = ave + (sd*numsd)\n",
    "    dnband = ave - (sd*numsd)\n",
    "    return np.round(ave,3), np.round(upband,3), np.round(dnband,3)\n",
    "\n",
    "indicators_df['BB_Middle_Band'], indicators_df['BB_Upper_Band'], indicators_df['BB_Lower_Band'] = \\\n",
    "    bbands(indicators_df['final_price'], length=20, numsd=1)\n",
    "\n",
    "indicators_df['BB_Middle_Band'] = indicators_df['BB_Middle_Band'].fillna(0)\n",
    "indicators_df['BB_Upper_Band'] = indicators_df['BB_Upper_Band'].fillna(0)\n",
    "indicators_df['BB_Lower_Band'] = indicators_df['BB_Lower_Band'].fillna(0)\n",
    "   \n",
    "indicators_df.to_csv(\n",
    "    data_path + '\\\\' + 'stocks_with_indicators.csv', encoding='utf-8-sig', index=False)\n"
   ],
   "metadata": {
    "collapsed": false,
    "pycharm": {
     "name": "#%%\n"
    }
   }
  },
  {
   "cell_type": "code",
   "execution_count": 9,
   "outputs": [],
   "source": [
    "# Calculation of Aroon Oscillator\n",
    "def aroon(df, tf=25):\n",
    "    aroonup = []\n",
    "    aroondown = []\n",
    "    x = tf\n",
    "    while x< len(df['pd_trade_date']):\n",
    "        aroon_up = ((df['max_price'][x-tf:x].tolist().index(max(df['max_price'][x-tf:x])))/float(tf))*100\n",
    "        aroon_down = ((df['min_price'][x-tf:x].tolist().index(min(df['min_price'][x-tf:x])))/float(tf))*100\n",
    "        aroonup.append(aroon_up)\n",
    "        aroondown.append(aroon_down)\n",
    "        x+=1\n",
    "    return aroonup, aroondown\n",
    "\n",
    "\n",
    "listofzeros = [0] * 25\n",
    "up, down = aroon(indicators_df)\n",
    "aroon_list = [x - y for x, y in zip(up,down)]\n",
    "if len(aroon_list)==0:\n",
    "    aroon_list = [0] * indicators_df.shape[0]\n",
    "    indicators_df['Aroon_Oscillator'] = aroon_list\n",
    "else:\n",
    "    indicators_df['Aroon_Oscillator'] = listofzeros+aroon_list\n",
    "\n",
    "indicators_df.to_csv(\n",
    "    data_path + '\\\\' + 'stocks_with_indicators.csv', encoding='utf-8-sig', index=False)"
   ],
   "metadata": {
    "collapsed": false,
    "pycharm": {
     "name": "#%%\n"
    }
   }
  },
  {
   "cell_type": "code",
   "execution_count": 10,
   "outputs": [],
   "source": [
    "# Calculation of Price Volume Trend\n",
    "# PVT = [((CurrentClose - PreviousClose) / PreviousClose) x Volume] + PreviousPVT\n",
    "indicators_df[\"PVT\"] = (indicators_df['Momentum_1D']/ indicators_df['final_price'].shift(1))*indicators_df['volume']\n",
    "indicators_df[\"PVT\"] = indicators_df[\"PVT\"]-indicators_df[\"PVT\"].shift(1)\n",
    "indicators_df[\"PVT\"] = indicators_df[\"PVT\"].fillna(0)\n",
    "\n",
    "indicators_df.to_csv(\n",
    "    data_path + '\\\\' + 'stocks_with_indicators.csv', encoding='utf-8-sig', index=False)"
   ],
   "metadata": {
    "collapsed": false,
    "pycharm": {
     "name": "#%%\n"
    }
   }
  },
  {
   "cell_type": "code",
   "execution_count": 13,
   "outputs": [],
   "source": [
    "# Calculation of Acceleration Bands\n",
    "def abands(df):\n",
    "    #df['AB_Middle_Band'] = pd.rolling_mean(df['final_price'], 20)\n",
    "    df['AB_Middle_Band'] = df['final_price'].rolling(window = 20, center=False).mean()\n",
    "    # High * ( 1 + 4 * (High - Low) / (High + Low))\n",
    "    df['aupband'] = df['max_price'] * (1 + 4 * (df['max_price']-df['min_price'])/(df['max_price']+df['min_price']))\n",
    "    df['AB_Upper_Band'] = df['aupband'].rolling(window=20, center=False).mean()\n",
    "    # Low *(1 - 4 * (High - Low)/ (High + Low))\n",
    "    df['adownband'] = df['min_price'] * (1 - 4 * (df['max_price']-df['min_price'])/(df['max_price']+df['min_price']))\n",
    "    df['AB_Lower_Band'] = df['adownband'].rolling(window=20, center=False).mean()\n",
    "\n",
    "abands(indicators_df)\n",
    "indicators_df = indicators_df.fillna(0)\n",
    "\n",
    "indicators_df.to_csv(\n",
    "    data_path + '\\\\' + 'stocks_with_indicators.csv', encoding='utf-8-sig', index=False)"
   ],
   "metadata": {
    "collapsed": false,
    "pycharm": {
     "name": "#%%\n"
    }
   }
  },
  {
   "cell_type": "code",
   "execution_count": 14,
   "outputs": [],
   "source": [
    "# Drop unwanted columns\n",
    "columns2Drop = ['aupband', 'adownband']\n",
    "indicators_df = indicators_df.drop(labels = columns2Drop, axis=1)\n",
    "\n",
    "indicators_df.to_csv(\n",
    "    data_path + '\\\\' + 'stocks_with_indicators.csv', encoding='utf-8-sig', index=False)\n"
   ],
   "metadata": {
    "collapsed": false,
    "pycharm": {
     "name": "#%%\n"
    }
   }
  },
  {
   "cell_type": "code",
   "execution_count": 6,
   "outputs": [
    {
     "name": "stdout",
     "output_type": "stream",
     "text": [
      ":0:1:0:1:0:0:1:1:0:1:0:0:0:0:0:0:0:0\n"
     ]
    }
   ],
   "source": [
    "# Calculation of Stochastic Oscillator (%K and %D)\n",
    "print(\":0:1:0:1:0:0:1:1:0:1:0:0:0:0:0:0:0:0\")\n",
    "def STOK(df, n):\n",
    "    df['STOK'] = ((df['final_price'] - df['min_price'].rolling(window=n, center=False).mean()) /\n",
    "            (df['max_price'].rolling(window=n, center=False).max() - df['min_price'].rolling(window=n, center=False).min())) * 100\n",
    "    df['STOD'] = df['STOK'].rolling(window = 3, center=False).mean()\n",
    "\n",
    "STOK(indicators_df, 4)\n",
    "indicators_df = indicators_df.fillna(0)\n",
    "\n",
    "indicators_df.to_csv(\n",
    "    data_path + '\\\\' + 'stocks_with_indicators.csv', encoding='utf-8-sig', index=False)"
   ],
   "metadata": {
    "collapsed": false,
    "pycharm": {
     "name": "#%%\n"
    }
   }
  },
  {
   "cell_type": "code",
   "execution_count": 4,
   "outputs": [],
   "source": [
    "print(\"Calculation of Chaikin Money Flow\")\n",
    "def CMFlow(df, tf):\n",
    "    CHMF = []\n",
    "    MFMs = []\n",
    "    MFVs = []\n",
    "    x = tf\n",
    "\n",
    "    while x < len(df['pd_trade_date']):\n",
    "        PeriodVolume = 0\n",
    "        volRange = df['volume'][x-tf:x]\n",
    "        for eachVol in volRange:\n",
    "            PeriodVolume += eachVol\n",
    "\n",
    "        MFM = ((df['final_price'][x] - df['min_price'][x]) -\n",
    "               (df['max_price'][x] - df['final_price'][x])) / (df['max_price'][x] - df['min_price'][x])\n",
    "        MFV = MFM*PeriodVolume\n",
    "\n",
    "        MFMs.append(MFM)\n",
    "        MFVs.append(MFV)\n",
    "        x+=1\n",
    "\n",
    "    y = tf\n",
    "    while y < len(MFVs):\n",
    "        PeriodVolume = 0\n",
    "        volRange = df['volume'][x-tf:x]\n",
    "        for eachVol in volRange:\n",
    "            PeriodVolume += eachVol\n",
    "        consider = MFVs[y-tf:y]\n",
    "        tfsMFV = 0\n",
    "\n",
    "        for eachMFV in consider:\n",
    "            tfsMFV += eachMFV\n",
    "\n",
    "        tfsCMF = tfsMFV/PeriodVolume\n",
    "        CHMF.append(tfsCMF)\n",
    "        y+=1\n",
    "    return CHMF\n",
    "\n",
    "listofzeros = [0] * 40\n",
    "CHMF = CMFlow(indicators_df, 20)\n",
    "if len(CHMF)==0:\n",
    "    CHMF = [0] * indicators_df.shape[0]\n",
    "    indicators_df['Chaikin_MF'] = CHMF\n",
    "else:\n",
    "    indicators_df['Chaikin_MF'] = listofzeros+CHMF\n",
    "\n",
    "indicators_df.to_csv(\n",
    "    data_path + '\\\\' + 'stocks_with_indicators2.csv', encoding='utf-8-sig', index=False)\n",
    "\n",
    "print(\"passed\")\n"
   ],
   "metadata": {
    "collapsed": false,
    "pycharm": {
     "name": "#%%\n"
    }
   }
  },
  {
   "cell_type": "code",
   "execution_count": 10,
   "outputs": [
    {
     "name": "stdout",
     "output_type": "stream",
     "text": [
      "Calculation of Parabolic SAR .\n"
     ]
    }
   ],
   "source": [
    "print(\"Calculation of Parabolic SAR .\")\n",
    "\n",
    "\n",
    "def psar(df, iaf = 0.02, maxaf = 0.2):\n",
    "    length = len(df)\n",
    "    dates = (df['pd_trade_date'])\n",
    "    high = (df['max_price'])\n",
    "    low = (df['min_price'])\n",
    "    close = (df['final_price'])\n",
    "    psar = df['final_price'][0:len(df['final_price'])]\n",
    "    psarbull = [None] * length\n",
    "    psarbear = [None] * length\n",
    "    bull = True\n",
    "    af = iaf\n",
    "    ep = df['min_price'][0]\n",
    "    hp = df['max_price'][0]\n",
    "    lp = df['min_price'][0]\n",
    "    for i in range(2,length):\n",
    "        if bull:\n",
    "            psar[i] = psar[i - 1] + af * (hp - psar[i - 1])\n",
    "        else:\n",
    "            psar[i] = psar[i - 1] + af * (lp - psar[i - 1])\n",
    "        reverse = False\n",
    "        if bull:\n",
    "            if df['min_price'][i] < psar[i]:\n",
    "                bull = False\n",
    "                reverse = True\n",
    "                psar[i] = hp\n",
    "                lp = df['min_price'][i]\n",
    "                af = iaf\n",
    "        else:\n",
    "            if df['max_price'][i] > psar[i]:\n",
    "                bull = True\n",
    "                reverse = True\n",
    "                psar[i] = lp\n",
    "                hp = df['max_price'][i]\n",
    "                af = iaf\n",
    "        if not reverse:\n",
    "            if bull:\n",
    "                if df['max_price'][i] > hp:\n",
    "                    hp = df['max_price'][i]\n",
    "                    af = min(af + iaf, maxaf)\n",
    "                if df['min_price'][i - 1] < psar[i]:\n",
    "                    psar[i] = df['min_price'][i - 1]\n",
    "                if df['min_price'][i - 2] < psar[i]:\n",
    "                    psar[i] = df['min_price'][i - 2]\n",
    "            else:\n",
    "                if df['min_price'][i] < lp:\n",
    "                    lp = df['min_price'][i]\n",
    "                    af = min(af + iaf, maxaf)\n",
    "                if df['max_price'][i - 1] > psar[i]:\n",
    "                    psar[i] = df['max_price'][i - 1]\n",
    "                if df['max_price'][i - 2] > psar[i]:\n",
    "                    psar[i] = df['max_price'][i - 2]\n",
    "        if bull:\n",
    "            psarbull[i] = psar[i]\n",
    "        else:\n",
    "            psarbear[i] = psar[i]\n",
    "\n",
    "    df['psar'] = psar\n",
    "\n",
    "psar(indicators_df)\n",
    "\n",
    "indicators_df.to_csv(\n",
    "    data_path + '\\\\' + 'stocks_with_indicators.csv', encoding='utf-8-sig', index=False)"
   ],
   "metadata": {
    "collapsed": false,
    "pycharm": {
     "name": "#%%\n"
    }
   }
  },
  {
   "cell_type": "code",
   "execution_count": 11,
   "outputs": [],
   "source": [
    "# Drop Unwanted columns\n",
    "columns2Drop = ['Chaikin_MF']\n",
    "indicators_df = indicators_df.drop(labels = columns2Drop, axis=1)\n",
    "\n",
    "indicators_df.to_csv(\n",
    "    data_path + '\\\\' + 'stocks_with_indicators.csv', encoding='utf-8-sig', index=False)\n"
   ],
   "metadata": {
    "collapsed": false,
    "pycharm": {
     "name": "#%%\n"
    }
   }
  },
  {
   "cell_type": "code",
   "execution_count": 13,
   "outputs": [
    {
     "name": "stdout",
     "output_type": "stream",
     "text": [
      "Calculation of Price Rate of Change\n"
     ]
    }
   ],
   "source": [
    "print('Calculation of Price Rate of Change')\n",
    "# ROC = [(Close - Close n periods ago) / (Close n periods ago)] * 100\n",
    "indicators_df['ROC'] = ((indicators_df['final_price'] - indicators_df['final_price'].shift(12))/(indicators_df['final_price'].shift(12)))*100\n",
    "indicators_df = indicators_df.fillna(0)\n",
    "\n",
    "indicators_df.to_csv(\n",
    "    data_path + '\\\\' + 'stocks_with_indicators.csv', encoding='utf-8-sig', index=False)"
   ],
   "metadata": {
    "collapsed": false,
    "pycharm": {
     "name": "#%%\n"
    }
   }
  },
  {
   "cell_type": "code",
   "execution_count": 14,
   "outputs": [
    {
     "name": "stdout",
     "output_type": "stream",
     "text": [
      "Calculation of Volume Weighted Average Price\n"
     ]
    }
   ],
   "source": [
    "print('Calculation of Volume Weighted Average Price')\n",
    "\n",
    "indicators_df['VWAP'] = np.cumsum(indicators_df['volume'] * (indicators_df['max_price'] + indicators_df['min_price'])/2) / np.cumsum(indicators_df['volume'])\n",
    "indicators_df = indicators_df.fillna(0)\n",
    "\n",
    "indicators_df.to_csv(\n",
    "    data_path + '\\\\' + 'stocks_with_indicators.csv', encoding='utf-8-sig', index=False)\n"
   ],
   "metadata": {
    "collapsed": false,
    "pycharm": {
     "name": "#%%\n"
    }
   }
  },
  {
   "cell_type": "code",
   "execution_count": null,
   "outputs": [],
   "source": [
    "\n"
   ],
   "metadata": {
    "collapsed": false,
    "pycharm": {
     "name": "#%%\n"
    }
   }
  }
 ],
 "metadata": {
  "kernelspec": {
   "display_name": "Python 3",
   "language": "python",
   "name": "python3"
  },
  "language_info": {
   "codemirror_mode": {
    "name": "ipython",
    "version": 2
   },
   "file_extension": ".py",
   "mimetype": "text/x-python",
   "name": "python",
   "nbconvert_exporter": "python",
   "pygments_lexer": "ipython2",
   "version": "2.7.6"
  }
 },
 "nbformat": 4,
 "nbformat_minor": 0
}