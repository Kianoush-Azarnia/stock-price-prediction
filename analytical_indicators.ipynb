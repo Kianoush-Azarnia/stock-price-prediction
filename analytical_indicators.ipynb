{
 "cells": [
  {
   "cell_type": "code",
   "execution_count": 1,
   "metadata": {
    "collapsed": true
   },
   "outputs": [
    {
     "name": "stdout",
     "output_type": "stream",
     "text": [
      "373\n"
     ]
    }
   ],
   "source": [
    "import numpy as np\n",
    "import pandas as pd\n",
    "import os\n",
    "import random\n",
    "import copy\n",
    "\n",
    "# Calculation of Relative Strength Index (RSI)\n",
    "pd.set_option('display.max_columns', None)\n",
    "pd.set_option('display.max_rows', None)\n",
    "\n",
    "dirname = os.path.abspath('')\n",
    "data_path = os.path.join(dirname, 'Data')\n",
    "\n",
    "stocks_df = pd.read_csv(data_path + '\\\\' + 'stocks_with_next_changes.csv', encoding='utf-8')\n",
    "\n",
    "stocks = stocks_df['persian_symbol'].unique().tolist()\n",
    "print(len(stocks))\n"
   ]
  },
  {
   "cell_type": "code",
   "execution_count": 2,
   "outputs": [
    {
     "name": "stdout",
     "output_type": "stream",
     "text": [
      "Index(['persian_symbol', 'pd_trade_date', 'market_value', 'first_price',\n",
      "       'final_price', 'last_trade_price', 'number_of_trades', 'volume',\n",
      "       'value', 'min_price', 'max_price', 'yesterday_price', 'change',\n",
      "       'next_change', 'Momentum_1D', 'RSI_5D', 'Volume_plain'],\n",
      "      dtype='object')\n"
     ]
    }
   ],
   "source": [
    "indicators_df = pd.read_csv(data_path + '\\\\' + 'selected_stocks_with_indicators.csv', encoding='utf-8')\n",
    "print(indicators_df.columns)"
   ],
   "metadata": {
    "collapsed": false,
    "pycharm": {
     "name": "#%%\n"
    }
   }
  },
  {
   "cell_type": "code",
   "execution_count": 3,
   "outputs": [
    {
     "name": "stdout",
     "output_type": "stream",
     "text": [
      "['شفن', 'بفجر', 'غالبر', 'وآذر', 'دپارس', 'ملت', 'فلامي', 'قصفها', 'پكوير', 'سكرد', 'داسوهح', 'دالبر', 'كاوهح', 'غبهنوش', 'پاسا', 'وملي', 'سخوز', 'وپاسار', 'وخارزم', 'تمحركه']\n"
     ]
    }
   ],
   "source": [
    "selected_symbols_df = pd.read_csv(data_path + '\\\\' + 'regression_benchmark.csv', encoding='utf-8')\n",
    "selected_symbols = selected_symbols_df['symbol'].tolist()\n",
    "print(selected_symbols)"
   ],
   "metadata": {
    "collapsed": false,
    "pycharm": {
     "name": "#%%\n"
    }
   }
  },
  {
   "cell_type": "code",
   "execution_count": 4,
   "outputs": [
    {
     "name": "stdout",
     "output_type": "stream",
     "text": [
      "done\n"
     ]
    }
   ],
   "source": [
    "stocks_df['Momentum_1D'] = 0\n",
    "\n",
    "def rsi(values):\n",
    "    up = values[values > 0].mean()\n",
    "    down = -1 * values[values < 0].mean()\n",
    "    return 100 * up / (up + down)\n",
    "\n",
    "for stock in selected_symbols:\n",
    "    stocks_df.loc[stocks_df['persian_symbol'] == stock, 'Momentum_1D'] = (\n",
    "        stocks_df.loc[stocks_df['persian_symbol'] == stock, 'final_price'] -\n",
    "        stocks_df.loc[stocks_df['persian_symbol'] == stock, 'final_price'].shift(1)\n",
    "    ).fillna(0)\n",
    "\n",
    "    stocks_df.loc[stocks_df['persian_symbol'] == stock, 'RSI_5D'] = \\\n",
    "        stocks_df.loc[stocks_df['persian_symbol'] == stock, 'Momentum_1D'].rolling(center=False, window=5). \\\n",
    "        apply(rsi).fillna(0)\n",
    "\n",
    "stocks_df.to_csv(\n",
    "    data_path + '\\\\' + 'selected_stocks_with_indicators.csv', encoding='utf-8-sig', index=False)\n",
    "\n",
    "print('done')\n",
    "\n"
   ],
   "metadata": {
    "collapsed": false,
    "pycharm": {
     "name": "#%%\n"
    }
   }
  },
  {
   "cell_type": "code",
   "execution_count": 5,
   "outputs": [
    {
     "name": "stdout",
     "output_type": "stream",
     "text": [
      "done!\n"
     ]
    }
   ],
   "source": [
    "# Calculation of Volume (Plain)\n",
    "\n",
    "indicators_df['Volume_plain'] = indicators_df['volume'].fillna(0)\n",
    "\n",
    "indicators_df.to_csv(\n",
    "    data_path + '\\\\' + 'selected_stocks_with_indicators.csv', encoding='utf-8-sig', index=False)\n",
    "\n",
    "print('done!')"
   ],
   "metadata": {
    "collapsed": false,
    "pycharm": {
     "name": "#%%\n"
    }
   }
  },
  {
   "cell_type": "code",
   "execution_count": 6,
   "outputs": [
    {
     "name": "stdout",
     "output_type": "stream",
     "text": [
      "done\n"
     ]
    }
   ],
   "source": [
    "indicators_df['BB_Middle_Band'] = 0\n",
    "indicators_df['BB_Upper_Band'] = 0\n",
    "indicators_df['BB_Lower_Band'] = 0\n",
    "\n",
    "\n",
    "# Calculation of Bollinger Bands\n",
    "def bbands(price, length=5, numsd=2):\n",
    "    ''' returns average, upper band, and lower band'''\n",
    "    #ave = pd.stats.moments.rolling_mean(price,length)\n",
    "    ave = price.rolling(window = length, center = False).mean()\n",
    "    #sd = pd.stats.moments.rolling_std(price,length)\n",
    "    sd = price.rolling(window = length, center = False).std()\n",
    "    upband = ave + (sd*numsd)\n",
    "    dnband = ave - (sd*numsd)\n",
    "    return np.round(ave,3), np.round(upband,3), np.round(dnband,3)\n",
    "\n",
    "for stock in selected_symbols:\n",
    "    indicators_df.loc[indicators_df['persian_symbol'] == stock, 'BB_Middle_Band'],\\\n",
    "    indicators_df.loc[indicators_df['persian_symbol'] == stock, 'BB_Upper_Band'], \\\n",
    "    indicators_df.loc[indicators_df['persian_symbol'] == stock, 'BB_Lower_Band'] = \\\n",
    "        bbands(indicators_df.loc[indicators_df['persian_symbol'] == stock, 'final_price'], length=5, numsd=1)\n",
    "\n",
    "indicators_df.fillna(0, inplace=True)\n",
    "\n",
    "indicators_df.to_csv(\n",
    "    data_path + '\\\\' + 'selected_stocks_with_indicators.csv', encoding='utf-8-sig', index=False)\n",
    "\n",
    "print('done')"
   ],
   "metadata": {
    "collapsed": false,
    "pycharm": {
     "name": "#%%\n"
    }
   }
  },
  {
   "cell_type": "code",
   "execution_count": 7,
   "outputs": [
    {
     "name": "stdout",
     "output_type": "stream",
     "text": [
      "done\n"
     ]
    }
   ],
   "source": [
    "indicators_df['Aroon_Oscillator'] = 0\n",
    "\n",
    "# Calculation of Aroon Oscillator\n",
    "def aroon(df, tf=5):\n",
    "    aroonup = []\n",
    "    aroondown = []\n",
    "    x = tf\n",
    "    while x< len(df['pd_trade_date']):\n",
    "        aroon_up = ((df['max_price'][x-tf:x].tolist().index(max(df['max_price'][x-tf:x])))/float(tf))*100\n",
    "        aroon_down = ((df['min_price'][x-tf:x].tolist().index(min(df['min_price'][x-tf:x])))/float(tf))*100\n",
    "        aroonup.append(aroon_up)\n",
    "        aroondown.append(aroon_down)\n",
    "        x+=1\n",
    "    return aroonup, aroondown\n",
    "\n",
    "for stock in selected_symbols:\n",
    "    list_of_zeros = [0] * 5\n",
    "    up, down = aroon(indicators_df.loc[indicators_df['persian_symbol'] == stock])\n",
    "    aroon_list = [x - y for x, y in zip(up,down)]\n",
    "    if len(aroon_list)==0:\n",
    "        aroon_list = [0] * indicators_df.loc[indicators_df['persian_symbol'] == stock].shape[0]\n",
    "        indicators_df.loc[indicators_df['persian_symbol'] == stock, 'Aroon_Oscillator'] = aroon_list\n",
    "    else:\n",
    "        indicators_df.loc[indicators_df['persian_symbol'] == stock, 'Aroon_Oscillator'] = list_of_zeros+aroon_list\n",
    "\n",
    "indicators_df.fillna(0, inplace=True)\n",
    "\n",
    "indicators_df.to_csv(data_path + '\\\\' + 'selected_stocks_with_indicators.csv', encoding='utf-8-sig', index=False)\n",
    "\n",
    "print('done')"
   ],
   "metadata": {
    "collapsed": false,
    "pycharm": {
     "name": "#%%\n"
    }
   }
  },
  {
   "cell_type": "code",
   "execution_count": 8,
   "outputs": [
    {
     "name": "stdout",
     "output_type": "stream",
     "text": [
      "done\n"
     ]
    }
   ],
   "source": [
    "indicators_df['PVT'] = 0\n",
    "# Calculation of Price Volume Trend\n",
    "# PVT = [((CurrentClose - PreviousClose) / PreviousClose) x Volume] + PreviousPVT\n",
    "\n",
    "for stock in selected_symbols:\n",
    "    indicators_df.loc[indicators_df['persian_symbol'] == stock, 'PVT'] = \\\n",
    "        (indicators_df.loc[indicators_df['persian_symbol'] == stock, 'Momentum_1D']/\n",
    "         indicators_df.loc[indicators_df['persian_symbol'] == stock, 'final_price'].shift(1))\\\n",
    "        * indicators_df.loc[indicators_df['persian_symbol'] == stock, 'volume']\n",
    "\n",
    "    indicators_df.loc[indicators_df['persian_symbol'] == stock, 'PVT'] = \\\n",
    "        indicators_df.loc[indicators_df['persian_symbol'] == stock, 'PVT']\\\n",
    "        - indicators_df.loc[indicators_df['persian_symbol'] == stock, 'PVT'].shift(1)\n",
    "\n",
    "    indicators_df.loc[indicators_df['persian_symbol'] == stock, 'PVT'] = \\\n",
    "        indicators_df.loc[indicators_df['persian_symbol'] == stock, 'PVT'].fillna(0)\n",
    "\n",
    "indicators_df.to_csv(\n",
    "    data_path + '\\\\' + 'selected_stocks_with_indicators.csv', encoding='utf-8-sig', index=False)\n",
    "print('done')\n",
    "\n"
   ],
   "metadata": {
    "collapsed": false,
    "pycharm": {
     "name": "#%%\n"
    }
   }
  },
  {
   "cell_type": "code",
   "execution_count": 9,
   "outputs": [
    {
     "name": "stdout",
     "output_type": "stream",
     "text": [
      "done!\n"
     ]
    }
   ],
   "source": [
    "# Calculation of Acceleration Bands\n",
    "indicators_df['AB_Middle_Band'] = 0\n",
    "indicators_df['aupband'] = 0\n",
    "indicators_df['AB_Upper_Band'] = 0\n",
    "indicators_df['adownband'] = 0\n",
    "indicators_df['AB_Lower_Band'] = 0\n",
    "\n",
    "def abands(df):\n",
    "    for stock in selected_symbols:\n",
    "        #df['AB_Middle_Band'] = pd.rolling_mean(df['final_price'], 5)\n",
    "        df.loc[df['persian_symbol'] == stock, 'AB_Middle_Band'] = \\\n",
    "            df.loc[df['persian_symbol'] == stock, 'final_price'].rolling(window = 5, center=False).mean()\n",
    "\n",
    "        # High * ( 1 + 4 * (High - Low) / (High + Low))\n",
    "        df.loc[df['persian_symbol'] == stock, 'aupband'] = \\\n",
    "            df.loc[df['persian_symbol'] == stock, 'max_price'] * (\n",
    "                    1 + 4 * (df.loc[df['persian_symbol'] == stock, 'max_price'] -\n",
    "                             df.loc[df['persian_symbol'] == stock, 'min_price']) /\n",
    "                    (df.loc[df['persian_symbol'] == stock, 'max_price'] +\n",
    "                     df.loc[df['persian_symbol'] == stock, 'min_price'])\n",
    "            )\n",
    "        df.loc[df['persian_symbol'] == stock, 'AB_Upper_Band'] = df.loc[df['persian_symbol'] == stock, 'aupband'].\\\n",
    "            rolling(window=5, center=False).mean()\n",
    "\n",
    "        # Low *(1 - 4 * (High - Low)/ (High + Low))\n",
    "        df.loc[df['persian_symbol'] == stock, 'adownband'] = \\\n",
    "            df.loc[df['persian_symbol'] == stock, 'min_price'] * (\n",
    "                    1 - 4 * (df.loc[df['persian_symbol'] == stock, 'max_price'] -\n",
    "                             df.loc[df['persian_symbol'] == stock, 'min_price']) /\n",
    "                    (df.loc[df['persian_symbol'] == stock, 'max_price'] +\n",
    "                     df.loc[df['persian_symbol'] == stock, 'min_price'])\n",
    "            )\n",
    "\n",
    "        df.loc[df['persian_symbol'] == stock, 'AB_Lower_Band'] = \\\n",
    "            indicators_df.loc[indicators_df['persian_symbol'] == stock, 'adownband'].\\\n",
    "                rolling(window=5, center=False).mean()\n",
    "\n",
    "abands(indicators_df)\n",
    "\n",
    "indicators_df.fillna(0, inplace=True)\n",
    "\n",
    "indicators_df.to_csv(\n",
    "    data_path + '\\\\' + 'selected_stocks_with_indicators.csv', encoding='utf-8-sig', index=False)\n",
    "\n",
    "print('done!')\n",
    "\n"
   ],
   "metadata": {
    "collapsed": false,
    "pycharm": {
     "name": "#%%\n"
    }
   }
  },
  {
   "cell_type": "code",
   "execution_count": 10,
   "outputs": [
    {
     "name": "stdout",
     "output_type": "stream",
     "text": [
      "done\n"
     ]
    }
   ],
   "source": [
    "indicators_df['STOK'] = 0\n",
    "# Calculation of Stochastic Oscillator (%K and %D)\n",
    "\n",
    "def STOK(df, n):\n",
    "    for stock in selected_symbols:\n",
    "        df.loc[df['persian_symbol'] == stock, 'STOK'] = ((df.loc[df['persian_symbol'] == stock, 'final_price'] -\n",
    "                                                          df.loc[df['persian_symbol'] == stock, 'min_price'].\n",
    "                                                          rolling(window=n, center=False).mean()) /\n",
    "                                                         (df.loc[df['persian_symbol'] == stock, 'max_price'].\n",
    "                                                          rolling(window=n, center=False).max() -\n",
    "                                                          df.loc[df['persian_symbol'] == stock, 'min_price'].\n",
    "                                                          rolling(window=n, center=False).min())) * 100\n",
    "\n",
    "        df.loc[df['persian_symbol'] == stock, 'STOD'] = df.loc[df['persian_symbol'] == stock, 'STOK'].\\\n",
    "            rolling(window = 3, center=False).mean()\n",
    "\n",
    "STOK(indicators_df, 4)\n",
    "indicators_df.fillna(0, inplace=True)\n",
    "\n",
    "indicators_df.to_csv(data_path + '\\\\' + 'selected_stocks_with_indicators.csv', encoding='utf-8-sig', index=False)\n",
    "print('done')\n",
    "\n"
   ],
   "metadata": {
    "collapsed": false,
    "pycharm": {
     "name": "#%%\n"
    }
   }
  },
  {
   "cell_type": "code",
   "execution_count": 11,
   "outputs": [
    {
     "name": "stdout",
     "output_type": "stream",
     "text": [
      "0 شفن\n",
      "1 بفجر\n",
      "2 غالبر\n",
      "3 وآذر\n",
      "4 دپارس\n",
      "5 ملت\n",
      "6 فلامي\n",
      "7 قصفها\n",
      "8 پكوير\n",
      "9 سكرد\n",
      "10 داسوهح\n",
      "11 دالبر\n",
      "12 كاوهح\n",
      "13 غبهنوش\n",
      "14 پاسا\n",
      "15 وملي\n",
      "16 سخوز\n",
      "17 وپاسار\n",
      "18 وخارزم\n",
      "19 تمحركه\n",
      "done!\n"
     ]
    },
    {
     "name": "stderr",
     "output_type": "stream",
     "text": [
      "c:\\users\\kia\\documents\\mypycharm\\bachelor_project\\venv\\lib\\site-packages\\numpy\\core\\_asarray.py:83: VisibleDeprecationWarning: Creating an ndarray from ragged nested sequences (which is a list-or-tuple of lists-or-tuples-or ndarrays with different lengths or shapes) is deprecated. If you meant to do this, you must specify 'dtype=object' when creating the ndarray\n",
      "  return array(a, dtype, copy=False, order=order)\n",
      "c:\\users\\kia\\documents\\mypycharm\\bachelor_project\\venv\\lib\\site-packages\\pandas\\core\\internals\\blocks.py:831: VisibleDeprecationWarning: Creating an ndarray from ragged nested sequences (which is a list-or-tuple of lists-or-tuples-or ndarrays with different lengths or shapes) is deprecated. If you meant to do this, you must specify 'dtype=object' when creating the ndarray\n",
      "  dtype, _ = maybe_promote(np.array(value).dtype)\n",
      "c:\\users\\kia\\documents\\mypycharm\\bachelor_project\\venv\\lib\\site-packages\\pandas\\core\\internals\\blocks.py:848: VisibleDeprecationWarning: Creating an ndarray from ragged nested sequences (which is a list-or-tuple of lists-or-tuples-or ndarrays with different lengths or shapes) is deprecated. If you meant to do this, you must specify 'dtype=object' when creating the ndarray\n",
      "  arr_value = np.array(value)\n"
     ]
    }
   ],
   "source": [
    "indicators_df['Chaikin_MF'] = 0\n",
    "# Calculation of Chaikin Money Flow\n",
    "def CMFlow(df, tf, stock):\n",
    "    CHMF = []\n",
    "    MFMs = []\n",
    "    MFVs = []\n",
    "    x = tf\n",
    "\n",
    "    while x < len(df.loc[df['persian_symbol'] == stock, 'pd_trade_date']):\n",
    "        PeriodVolume = 0\n",
    "        volRange = df.loc[(df['persian_symbol'] == stock) & (df.index.isin(df.index[x-tf:x])), 'volume']\n",
    "        for eachVol in volRange:\n",
    "            PeriodVolume += eachVol\n",
    "\n",
    "        MFM = ((df.loc[(df['persian_symbol'] == stock) & (df.index == x), 'final_price'] -\n",
    "                df.loc[(df['persian_symbol'] == stock) & (df.index == x), 'min_price']) -\n",
    "               (df.loc[(df['persian_symbol'] == stock) & (df.index == x), 'max_price'] -\n",
    "                df.loc[(df['persian_symbol'] == stock) & (df.index == x), 'final_price'])) / \\\n",
    "              (df.loc[(df['persian_symbol'] == stock) & (df.index == x), 'max_price'] -\n",
    "               df.loc[(df['persian_symbol'] == stock) & (df.index == x), 'min_price'])\n",
    "\n",
    "        MFV = MFM*PeriodVolume\n",
    "        MFMs.append(MFM)\n",
    "        MFVs.append(MFV)\n",
    "        x+=1\n",
    "\n",
    "    y = tf\n",
    "    while y < len(MFVs):\n",
    "        PeriodVolume = 0\n",
    "        volRange = df.loc[(df['persian_symbol'] == stock) & (df.index.isin(df.index[x-tf:x])), 'volume']\n",
    "        for eachVol in volRange:\n",
    "            PeriodVolume += eachVol\n",
    "        consider = MFVs[y-tf:y]\n",
    "        tfsMFV = 0\n",
    "\n",
    "        for eachMFV in consider:\n",
    "            tfsMFV += eachMFV\n",
    "\n",
    "        tfsCMF = tfsMFV/PeriodVolume\n",
    "        CHMF.append(tfsCMF)\n",
    "        y+=1\n",
    "    return CHMF\n",
    "\n",
    "i = 0\n",
    "for stock in selected_symbols:\n",
    "    print(i, stock)\n",
    "    i += 1\n",
    "    listofzeros = [0] * 40\n",
    "    CHMF = CMFlow(indicators_df, 20, stock)\n",
    "    if len(CHMF)==0:\n",
    "        CHMF = [0] * indicators_df.shape[0]\n",
    "        indicators_df.loc[indicators_df['persian_symbol'] == stock, 'Chaikin_MF'] = CHMF\n",
    "    else:\n",
    "        indicators_df.loc[indicators_df['persian_symbol'] == stock, 'Chaikin_MF'] = listofzeros+CHMF\n",
    "\n",
    "indicators_df.fillna(0, inplace=True)\n",
    "indicators_df.to_csv(\n",
    "    data_path + '\\\\' + 'selected_stocks_with_indicators.csv', encoding='utf-8-sig', index=False)\n",
    "\n",
    "print('done!')\n",
    "\n"
   ],
   "metadata": {
    "collapsed": false,
    "pycharm": {
     "name": "#%%\n"
    }
   }
  }
 ],
 "metadata": {
  "kernelspec": {
   "display_name": "Python 3",
   "language": "python",
   "name": "python3"
  },
  "language_info": {
   "codemirror_mode": {
    "name": "ipython",
    "version": 2
   },
   "file_extension": ".py",
   "mimetype": "text/x-python",
   "name": "python",
   "nbconvert_exporter": "python",
   "pygments_lexer": "ipython2",
   "version": "2.7.6"
  }
 },
 "nbformat": 4,
 "nbformat_minor": 0
}