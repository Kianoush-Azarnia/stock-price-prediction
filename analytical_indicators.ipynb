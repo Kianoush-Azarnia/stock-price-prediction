{
 "cells": [
  {
   "cell_type": "code",
   "execution_count": 1,
   "metadata": {
    "collapsed": true
   },
   "outputs": [
    {
     "name": "stdout",
     "output_type": "stream",
     "text": [
      "373\n"
     ]
    }
   ],
   "source": [
    "import numpy as np\n",
    "import pandas as pd\n",
    "import os\n",
    "import random\n",
    "import copy\n",
    "\n",
    "# Calculation of Relative Strength Index (RSI)\n",
    "pd.set_option('display.max_columns', None)\n",
    "pd.set_option('display.max_rows', None)\n",
    "\n",
    "dirname = os.path.abspath('')\n",
    "data_path = os.path.join(dirname, 'Data')\n",
    "\n",
    "stocks_df = pd.read_csv(data_path + '\\\\' + 'stocks_with_next_changes.csv', encoding='utf-8')\n",
    "\n",
    "stocks = stocks_df['persian_symbol'].unique().tolist()\n",
    "print(len(stocks))\n"
   ]
  },
  {
   "cell_type": "code",
   "execution_count": 2,
   "outputs": [
    {
     "name": "stdout",
     "output_type": "stream",
     "text": [
      "Index(['persian_symbol', 'pd_trade_date', 'market_value', 'first_price',\n",
      "       'final_price', 'last_trade_price', 'number_of_trades', 'volume',\n",
      "       'value', 'min_price', 'max_price', 'yesterday_price', 'change',\n",
      "       'next_change', 'Momentum_1D', 'RSI_5D', 'Volume_plain',\n",
      "       'BB_Middle_Band', 'BB_Upper_Band', 'BB_Lower_Band', 'Aroon_Oscillator',\n",
      "       'PVT', 'AB_Middle_Band', 'aupband', 'AB_Upper_Band', 'adownband',\n",
      "       'AB_Lower_Band', 'STOK', 'STOD', 'Chaikin_MF', 'psar', 'ROC', 'VWAP',\n",
      "       'Momentum', 'CCI', 'OBV'],\n",
      "      dtype='object')\n"
     ]
    },
    {
     "name": "stderr",
     "output_type": "stream",
     "text": [
      "c:\\users\\kia\\documents\\mypycharm\\bachelor_project\\venv\\lib\\site-packages\\IPython\\core\\interactiveshell.py:3146: DtypeWarning: Columns (29) have mixed types.Specify dtype option on import or set low_memory=False.\n",
      "  has_raised = await self.run_ast_nodes(code_ast.body, cell_name,\n"
     ]
    }
   ],
   "source": [
    "indicators_df = pd.read_csv(data_path + '\\\\' + 'selected_stocks_with_indicators.csv', encoding='utf-8')\n",
    "print(indicators_df.columns)"
   ],
   "metadata": {
    "collapsed": false,
    "pycharm": {
     "name": "#%%\n"
    }
   }
  },
  {
   "cell_type": "code",
   "execution_count": 3,
   "outputs": [
    {
     "name": "stdout",
     "output_type": "stream",
     "text": [
      "['شفن', 'بفجر', 'غالبر', 'وآذر', 'دپارس', 'ملت', 'فلامي', 'قصفها', 'پكوير', 'سكرد', 'داسوهح', 'دالبر', 'كاوهح', 'غبهنوش', 'پاسا', 'وملي', 'سخوز', 'وپاسار', 'وخارزم', 'تمحركه']\n"
     ]
    }
   ],
   "source": [
    "selected_symbols_df = pd.read_csv(data_path + '\\\\' + 'regression_benchmark.csv', encoding='utf-8')\n",
    "selected_symbols = selected_symbols_df['symbol'].tolist()\n",
    "print(selected_symbols)"
   ],
   "metadata": {
    "collapsed": false,
    "pycharm": {
     "name": "#%%\n"
    }
   }
  },
  {
   "cell_type": "code",
   "execution_count": 2,
   "outputs": [
    {
     "ename": "NameError",
     "evalue": "name 'selected_symbols' is not defined",
     "output_type": "error",
     "traceback": [
      "\u001B[1;31m---------------------------------------------------------------------------\u001B[0m",
      "\u001B[1;31mNameError\u001B[0m                                 Traceback (most recent call last)",
      "\u001B[1;32m<ipython-input-2-3b86d56f1456>\u001B[0m in \u001B[0;36m<module>\u001B[1;34m\u001B[0m\n\u001B[0;32m      6\u001B[0m     \u001B[1;32mreturn\u001B[0m \u001B[1;36m100\u001B[0m \u001B[1;33m*\u001B[0m \u001B[0mup\u001B[0m \u001B[1;33m/\u001B[0m \u001B[1;33m(\u001B[0m\u001B[0mup\u001B[0m \u001B[1;33m+\u001B[0m \u001B[0mdown\u001B[0m\u001B[1;33m)\u001B[0m\u001B[1;33m\u001B[0m\u001B[1;33m\u001B[0m\u001B[0m\n\u001B[0;32m      7\u001B[0m \u001B[1;33m\u001B[0m\u001B[0m\n\u001B[1;32m----> 8\u001B[1;33m \u001B[1;32mfor\u001B[0m \u001B[0mstock\u001B[0m \u001B[1;32min\u001B[0m \u001B[0mselected_symbols\u001B[0m\u001B[1;33m:\u001B[0m\u001B[1;33m\u001B[0m\u001B[1;33m\u001B[0m\u001B[0m\n\u001B[0m\u001B[0;32m      9\u001B[0m     stocks_df.loc[stocks_df['persian_symbol'] == stock, 'Momentum_1D'] = (\n\u001B[0;32m     10\u001B[0m         \u001B[0mstocks_df\u001B[0m\u001B[1;33m.\u001B[0m\u001B[0mloc\u001B[0m\u001B[1;33m[\u001B[0m\u001B[0mstocks_df\u001B[0m\u001B[1;33m[\u001B[0m\u001B[1;34m'persian_symbol'\u001B[0m\u001B[1;33m]\u001B[0m \u001B[1;33m==\u001B[0m \u001B[0mstock\u001B[0m\u001B[1;33m,\u001B[0m \u001B[1;34m'final_price'\u001B[0m\u001B[1;33m]\u001B[0m \u001B[1;33m-\u001B[0m\u001B[1;33m\u001B[0m\u001B[1;33m\u001B[0m\u001B[0m\n",
      "\u001B[1;31mNameError\u001B[0m: name 'selected_symbols' is not defined"
     ]
    }
   ],
   "source": [
    "stocks_df['Momentum_1D'] = 0\n",
    "\n",
    "def rsi(values):\n",
    "    up = values[values > 0].mean()\n",
    "    down = -1 * values[values < 0].mean()\n",
    "    return 100 * up / (up + down)\n",
    "\n",
    "for stock in selected_symbols:\n",
    "    stocks_df.loc[stocks_df['persian_symbol'] == stock, 'Momentum_1D'] = (\n",
    "        stocks_df.loc[stocks_df['persian_symbol'] == stock, 'final_price'] -\n",
    "        stocks_df.loc[stocks_df['persian_symbol'] == stock, 'final_price'].shift(1)\n",
    "    ).fillna(0)\n",
    "\n",
    "    stocks_df.loc[stocks_df['persian_symbol'] == stock, 'RSI_5D'] = \\\n",
    "        stocks_df.loc[stocks_df['persian_symbol'] == stock, 'Momentum_1D'].rolling(center=False, window=5). \\\n",
    "        apply(rsi).fillna(0)\n",
    "\n",
    "stocks_df.to_csv(\n",
    "    data_path + '\\\\' + 'selected_stocks_with_indicators.csv', encoding='utf-8-sig', index=False)\n",
    "\n",
    "print('done')\n",
    "\n"
   ],
   "metadata": {
    "collapsed": false,
    "pycharm": {
     "name": "#%%\n"
    }
   }
  },
  {
   "cell_type": "code",
   "execution_count": 5,
   "outputs": [
    {
     "name": "stdout",
     "output_type": "stream",
     "text": [
      "done!\n"
     ]
    }
   ],
   "source": [
    "# Calculation of Volume (Plain)\n",
    "\n",
    "indicators_df['Volume_plain'] = indicators_df['volume'].fillna(0)\n",
    "\n",
    "indicators_df.to_csv(\n",
    "    data_path + '\\\\' + 'selected_stocks_with_indicators.csv', encoding='utf-8-sig', index=False)\n",
    "\n",
    "print('done!')"
   ],
   "metadata": {
    "collapsed": false,
    "pycharm": {
     "name": "#%%\n"
    }
   }
  },
  {
   "cell_type": "code",
   "execution_count": 6,
   "outputs": [
    {
     "name": "stdout",
     "output_type": "stream",
     "text": [
      "done\n"
     ]
    }
   ],
   "source": [
    "indicators_df['BB_Middle_Band'] = 0\n",
    "indicators_df['BB_Upper_Band'] = 0\n",
    "indicators_df['BB_Lower_Band'] = 0\n",
    "\n",
    "\n",
    "# Calculation of Bollinger Bands\n",
    "def bbands(price, length=5, numsd=2):\n",
    "    ''' returns average, upper band, and lower band'''\n",
    "    #ave = pd.stats.moments.rolling_mean(price,length)\n",
    "    ave = price.rolling(window = length, center = False).mean()\n",
    "    #sd = pd.stats.moments.rolling_std(price,length)\n",
    "    sd = price.rolling(window = length, center = False).std()\n",
    "    upband = ave + (sd*numsd)\n",
    "    dnband = ave - (sd*numsd)\n",
    "    return np.round(ave,3), np.round(upband,3), np.round(dnband,3)\n",
    "\n",
    "for stock in selected_symbols:\n",
    "    indicators_df.loc[indicators_df['persian_symbol'] == stock, 'BB_Middle_Band'],\\\n",
    "    indicators_df.loc[indicators_df['persian_symbol'] == stock, 'BB_Upper_Band'], \\\n",
    "    indicators_df.loc[indicators_df['persian_symbol'] == stock, 'BB_Lower_Band'] = \\\n",
    "        bbands(indicators_df.loc[indicators_df['persian_symbol'] == stock, 'final_price'], length=5, numsd=1)\n",
    "\n",
    "indicators_df.fillna(0, inplace=True)\n",
    "\n",
    "indicators_df.to_csv(\n",
    "    data_path + '\\\\' + 'selected_stocks_with_indicators.csv', encoding='utf-8-sig', index=False)\n",
    "\n",
    "print('done')"
   ],
   "metadata": {
    "collapsed": false,
    "pycharm": {
     "name": "#%%\n"
    }
   }
  },
  {
   "cell_type": "code",
   "execution_count": 7,
   "outputs": [
    {
     "name": "stdout",
     "output_type": "stream",
     "text": [
      "done\n"
     ]
    }
   ],
   "source": [
    "indicators_df['Aroon_Oscillator'] = 0\n",
    "\n",
    "# Calculation of Aroon Oscillator\n",
    "def aroon(df, tf=5):\n",
    "    aroonup = []\n",
    "    aroondown = []\n",
    "    x = tf\n",
    "    while x< len(df['pd_trade_date']):\n",
    "        aroon_up = ((df['max_price'][x-tf:x].tolist().index(max(df['max_price'][x-tf:x])))/float(tf))*100\n",
    "        aroon_down = ((df['min_price'][x-tf:x].tolist().index(min(df['min_price'][x-tf:x])))/float(tf))*100\n",
    "        aroonup.append(aroon_up)\n",
    "        aroondown.append(aroon_down)\n",
    "        x+=1\n",
    "    return aroonup, aroondown\n",
    "\n",
    "for stock in selected_symbols:\n",
    "    list_of_zeros = [0] * 5\n",
    "    up, down = aroon(indicators_df.loc[indicators_df['persian_symbol'] == stock])\n",
    "    aroon_list = [x - y for x, y in zip(up,down)]\n",
    "    if len(aroon_list)==0:\n",
    "        aroon_list = [0] * indicators_df.loc[indicators_df['persian_symbol'] == stock].shape[0]\n",
    "        indicators_df.loc[indicators_df['persian_symbol'] == stock, 'Aroon_Oscillator'] = aroon_list\n",
    "    else:\n",
    "        indicators_df.loc[indicators_df['persian_symbol'] == stock, 'Aroon_Oscillator'] = list_of_zeros+aroon_list\n",
    "\n",
    "indicators_df.fillna(0, inplace=True)\n",
    "\n",
    "indicators_df.to_csv(data_path + '\\\\' + 'selected_stocks_with_indicators.csv', encoding='utf-8-sig', index=False)\n",
    "\n",
    "print('done')"
   ],
   "metadata": {
    "collapsed": false,
    "pycharm": {
     "name": "#%%\n"
    }
   }
  },
  {
   "cell_type": "code",
   "execution_count": 8,
   "outputs": [
    {
     "name": "stdout",
     "output_type": "stream",
     "text": [
      "done\n"
     ]
    }
   ],
   "source": [
    "indicators_df['PVT'] = 0\n",
    "# Calculation of Price Volume Trend\n",
    "# PVT = [((CurrentClose - PreviousClose) / PreviousClose) x Volume] + PreviousPVT\n",
    "\n",
    "for stock in selected_symbols:\n",
    "    indicators_df.loc[indicators_df['persian_symbol'] == stock, 'PVT'] = \\\n",
    "        (indicators_df.loc[indicators_df['persian_symbol'] == stock, 'Momentum_1D']/\n",
    "         indicators_df.loc[indicators_df['persian_symbol'] == stock, 'final_price'].shift(1))\\\n",
    "        * indicators_df.loc[indicators_df['persian_symbol'] == stock, 'volume']\n",
    "\n",
    "    indicators_df.loc[indicators_df['persian_symbol'] == stock, 'PVT'] = \\\n",
    "        indicators_df.loc[indicators_df['persian_symbol'] == stock, 'PVT']\\\n",
    "        - indicators_df.loc[indicators_df['persian_symbol'] == stock, 'PVT'].shift(1)\n",
    "\n",
    "    indicators_df.loc[indicators_df['persian_symbol'] == stock, 'PVT'] = \\\n",
    "        indicators_df.loc[indicators_df['persian_symbol'] == stock, 'PVT'].fillna(0)\n",
    "\n",
    "indicators_df.to_csv(\n",
    "    data_path + '\\\\' + 'selected_stocks_with_indicators.csv', encoding='utf-8-sig', index=False)\n",
    "print('done')\n",
    "\n"
   ],
   "metadata": {
    "collapsed": false,
    "pycharm": {
     "name": "#%%\n"
    }
   }
  },
  {
   "cell_type": "code",
   "execution_count": 9,
   "outputs": [
    {
     "name": "stdout",
     "output_type": "stream",
     "text": [
      "done!\n"
     ]
    }
   ],
   "source": [
    "# Calculation of Acceleration Bands\n",
    "indicators_df['AB_Middle_Band'] = 0\n",
    "indicators_df['aupband'] = 0\n",
    "indicators_df['AB_Upper_Band'] = 0\n",
    "indicators_df['adownband'] = 0\n",
    "indicators_df['AB_Lower_Band'] = 0\n",
    "\n",
    "def abands(df):\n",
    "    for stock in selected_symbols:\n",
    "        #df['AB_Middle_Band'] = pd.rolling_mean(df['final_price'], 5)\n",
    "        df.loc[df['persian_symbol'] == stock, 'AB_Middle_Band'] = \\\n",
    "            df.loc[df['persian_symbol'] == stock, 'final_price'].rolling(window = 5, center=False).mean()\n",
    "\n",
    "        # High * ( 1 + 4 * (High - Low) / (High + Low))\n",
    "        df.loc[df['persian_symbol'] == stock, 'aupband'] = \\\n",
    "            df.loc[df['persian_symbol'] == stock, 'max_price'] * (\n",
    "                    1 + 4 * (df.loc[df['persian_symbol'] == stock, 'max_price'] -\n",
    "                             df.loc[df['persian_symbol'] == stock, 'min_price']) /\n",
    "                    (df.loc[df['persian_symbol'] == stock, 'max_price'] +\n",
    "                     df.loc[df['persian_symbol'] == stock, 'min_price'])\n",
    "            )\n",
    "        df.loc[df['persian_symbol'] == stock, 'AB_Upper_Band'] = df.loc[df['persian_symbol'] == stock, 'aupband'].\\\n",
    "            rolling(window=5, center=False).mean()\n",
    "\n",
    "        # Low *(1 - 4 * (High - Low)/ (High + Low))\n",
    "        df.loc[df['persian_symbol'] == stock, 'adownband'] = \\\n",
    "            df.loc[df['persian_symbol'] == stock, 'min_price'] * (\n",
    "                    1 - 4 * (df.loc[df['persian_symbol'] == stock, 'max_price'] -\n",
    "                             df.loc[df['persian_symbol'] == stock, 'min_price']) /\n",
    "                    (df.loc[df['persian_symbol'] == stock, 'max_price'] +\n",
    "                     df.loc[df['persian_symbol'] == stock, 'min_price'])\n",
    "            )\n",
    "\n",
    "        df.loc[df['persian_symbol'] == stock, 'AB_Lower_Band'] = \\\n",
    "            indicators_df.loc[indicators_df['persian_symbol'] == stock, 'adownband'].\\\n",
    "                rolling(window=5, center=False).mean()\n",
    "\n",
    "abands(indicators_df)\n",
    "\n",
    "indicators_df.fillna(0, inplace=True)\n",
    "\n",
    "indicators_df.to_csv(\n",
    "    data_path + '\\\\' + 'selected_stocks_with_indicators.csv', encoding='utf-8-sig', index=False)\n",
    "\n",
    "print('done!')\n",
    "\n"
   ],
   "metadata": {
    "collapsed": false,
    "pycharm": {
     "name": "#%%\n"
    }
   }
  },
  {
   "cell_type": "code",
   "execution_count": 10,
   "outputs": [
    {
     "name": "stdout",
     "output_type": "stream",
     "text": [
      "done\n"
     ]
    }
   ],
   "source": [
    "indicators_df['STOK'] = 0\n",
    "# Calculation of Stochastic Oscillator (%K and %D)\n",
    "\n",
    "def STOK(df, n):\n",
    "    for stock in selected_symbols:\n",
    "        df.loc[df['persian_symbol'] == stock, 'STOK'] = ((df.loc[df['persian_symbol'] == stock, 'final_price'] -\n",
    "                                                          df.loc[df['persian_symbol'] == stock, 'min_price'].\n",
    "                                                          rolling(window=n, center=False).mean()) /\n",
    "                                                         (df.loc[df['persian_symbol'] == stock, 'max_price'].\n",
    "                                                          rolling(window=n, center=False).max() -\n",
    "                                                          df.loc[df['persian_symbol'] == stock, 'min_price'].\n",
    "                                                          rolling(window=n, center=False).min())) * 100\n",
    "\n",
    "        df.loc[df['persian_symbol'] == stock, 'STOD'] = df.loc[df['persian_symbol'] == stock, 'STOK'].\\\n",
    "            rolling(window = 3, center=False).mean()\n",
    "\n",
    "STOK(indicators_df, 4)\n",
    "indicators_df.fillna(0, inplace=True)\n",
    "\n",
    "indicators_df.to_csv(data_path + '\\\\' + 'selected_stocks_with_indicators.csv', encoding='utf-8-sig', index=False)\n",
    "print('done')\n",
    "\n"
   ],
   "metadata": {
    "collapsed": false,
    "pycharm": {
     "name": "#%%\n"
    }
   }
  },
  {
   "cell_type": "code",
   "execution_count": 11,
   "outputs": [
    {
     "name": "stdout",
     "output_type": "stream",
     "text": [
      "0 شفن\n",
      "1 بفجر\n",
      "2 غالبر\n",
      "3 وآذر\n",
      "4 دپارس\n",
      "5 ملت\n",
      "6 فلامي\n",
      "7 قصفها\n",
      "8 پكوير\n",
      "9 سكرد\n",
      "10 داسوهح\n",
      "11 دالبر\n",
      "12 كاوهح\n",
      "13 غبهنوش\n",
      "14 پاسا\n",
      "15 وملي\n",
      "16 سخوز\n",
      "17 وپاسار\n",
      "18 وخارزم\n",
      "19 تمحركه\n",
      "done!\n"
     ]
    },
    {
     "name": "stderr",
     "output_type": "stream",
     "text": [
      "c:\\users\\kia\\documents\\mypycharm\\bachelor_project\\venv\\lib\\site-packages\\numpy\\core\\_asarray.py:83: VisibleDeprecationWarning: Creating an ndarray from ragged nested sequences (which is a list-or-tuple of lists-or-tuples-or ndarrays with different lengths or shapes) is deprecated. If you meant to do this, you must specify 'dtype=object' when creating the ndarray\n",
      "  return array(a, dtype, copy=False, order=order)\n",
      "c:\\users\\kia\\documents\\mypycharm\\bachelor_project\\venv\\lib\\site-packages\\pandas\\core\\internals\\blocks.py:831: VisibleDeprecationWarning: Creating an ndarray from ragged nested sequences (which is a list-or-tuple of lists-or-tuples-or ndarrays with different lengths or shapes) is deprecated. If you meant to do this, you must specify 'dtype=object' when creating the ndarray\n",
      "  dtype, _ = maybe_promote(np.array(value).dtype)\n",
      "c:\\users\\kia\\documents\\mypycharm\\bachelor_project\\venv\\lib\\site-packages\\pandas\\core\\internals\\blocks.py:848: VisibleDeprecationWarning: Creating an ndarray from ragged nested sequences (which is a list-or-tuple of lists-or-tuples-or ndarrays with different lengths or shapes) is deprecated. If you meant to do this, you must specify 'dtype=object' when creating the ndarray\n",
      "  arr_value = np.array(value)\n"
     ]
    }
   ],
   "source": [
    "indicators_df['Chaikin_MF'] = 0\n",
    "# Calculation of Chaikin Money Flow\n",
    "def CMFlow(df, tf, stock):\n",
    "    CHMF = []\n",
    "    MFMs = []\n",
    "    MFVs = []\n",
    "    x = tf\n",
    "\n",
    "    while x < len(df.loc[df['persian_symbol'] == stock, 'pd_trade_date']):\n",
    "        PeriodVolume = 0\n",
    "        volRange = df.loc[(df['persian_symbol'] == stock) & (df.index.isin(df.index[x-tf:x])), 'volume']\n",
    "        for eachVol in volRange:\n",
    "            PeriodVolume += eachVol\n",
    "\n",
    "        MFM = ((df.loc[(df['persian_symbol'] == stock) & (df.index == x), 'final_price'] -\n",
    "                df.loc[(df['persian_symbol'] == stock) & (df.index == x), 'min_price']) -\n",
    "               (df.loc[(df['persian_symbol'] == stock) & (df.index == x), 'max_price'] -\n",
    "                df.loc[(df['persian_symbol'] == stock) & (df.index == x), 'final_price'])) / \\\n",
    "              (df.loc[(df['persian_symbol'] == stock) & (df.index == x), 'max_price'] -\n",
    "               df.loc[(df['persian_symbol'] == stock) & (df.index == x), 'min_price'])\n",
    "\n",
    "        MFV = MFM*PeriodVolume\n",
    "        MFMs.append(MFM)\n",
    "        MFVs.append(MFV)\n",
    "        x+=1\n",
    "\n",
    "    y = tf\n",
    "    while y < len(MFVs):\n",
    "        PeriodVolume = 0\n",
    "        volRange = df.loc[(df['persian_symbol'] == stock) & (df.index.isin(df.index[x-tf:x])), 'volume']\n",
    "        for eachVol in volRange:\n",
    "            PeriodVolume += eachVol\n",
    "        consider = MFVs[y-tf:y]\n",
    "        tfsMFV = 0\n",
    "\n",
    "        for eachMFV in consider:\n",
    "            tfsMFV += eachMFV\n",
    "\n",
    "        tfsCMF = tfsMFV/PeriodVolume\n",
    "        CHMF.append(tfsCMF)\n",
    "        y+=1\n",
    "    return CHMF\n",
    "\n",
    "i = 0\n",
    "for stock in selected_symbols:\n",
    "    print(i, stock)\n",
    "    i += 1\n",
    "    listofzeros = [0] * 40\n",
    "    CHMF = CMFlow(indicators_df, 20, stock)\n",
    "    if len(CHMF)==0:\n",
    "        CHMF = [0] * indicators_df.shape[0]\n",
    "        indicators_df.loc[indicators_df['persian_symbol'] == stock, 'Chaikin_MF'] = CHMF\n",
    "    else:\n",
    "        indicators_df.loc[indicators_df['persian_symbol'] == stock, 'Chaikin_MF'] = listofzeros+CHMF\n",
    "\n",
    "indicators_df.fillna(0, inplace=True)\n",
    "indicators_df.to_csv(\n",
    "    data_path + '\\\\' + 'selected_stocks_with_indicators.csv', encoding='utf-8-sig', index=False)\n",
    "\n",
    "print('done!')\n"
   ],
   "metadata": {
    "collapsed": false,
    "pycharm": {
     "name": "#%%\n"
    }
   }
  },
  {
   "cell_type": "code",
   "execution_count": 6,
   "outputs": [
    {
     "name": "stdout",
     "output_type": "stream",
     "text": [
      "0 شفن\n"
     ]
    },
    {
     "ename": "KeyError",
     "evalue": "1",
     "output_type": "error",
     "traceback": [
      "\u001B[1;31m---------------------------------------------------------------------------\u001B[0m",
      "\u001B[1;31mKeyError\u001B[0m                                  Traceback (most recent call last)",
      "\u001B[1;32mc:\\users\\kia\\documents\\mypycharm\\bachelor_project\\venv\\lib\\site-packages\\pandas\\core\\indexes\\base.py\u001B[0m in \u001B[0;36mget_loc\u001B[1;34m(self, key, method, tolerance)\u001B[0m\n\u001B[0;32m   2890\u001B[0m             \u001B[1;32mtry\u001B[0m\u001B[1;33m:\u001B[0m\u001B[1;33m\u001B[0m\u001B[1;33m\u001B[0m\u001B[0m\n\u001B[1;32m-> 2891\u001B[1;33m                 \u001B[1;32mreturn\u001B[0m \u001B[0mself\u001B[0m\u001B[1;33m.\u001B[0m\u001B[0m_engine\u001B[0m\u001B[1;33m.\u001B[0m\u001B[0mget_loc\u001B[0m\u001B[1;33m(\u001B[0m\u001B[0mcasted_key\u001B[0m\u001B[1;33m)\u001B[0m\u001B[1;33m\u001B[0m\u001B[1;33m\u001B[0m\u001B[0m\n\u001B[0m\u001B[0;32m   2892\u001B[0m             \u001B[1;32mexcept\u001B[0m \u001B[0mKeyError\u001B[0m \u001B[1;32mas\u001B[0m \u001B[0merr\u001B[0m\u001B[1;33m:\u001B[0m\u001B[1;33m\u001B[0m\u001B[1;33m\u001B[0m\u001B[0m\n",
      "\u001B[1;32mpandas\\_libs\\index.pyx\u001B[0m in \u001B[0;36mpandas._libs.index.IndexEngine.get_loc\u001B[1;34m()\u001B[0m\n",
      "\u001B[1;32mpandas\\_libs\\index.pyx\u001B[0m in \u001B[0;36mpandas._libs.index.IndexEngine.get_loc\u001B[1;34m()\u001B[0m\n",
      "\u001B[1;32mpandas\\_libs\\hashtable_class_helper.pxi\u001B[0m in \u001B[0;36mpandas._libs.hashtable.Int64HashTable.get_item\u001B[1;34m()\u001B[0m\n",
      "\u001B[1;32mpandas\\_libs\\hashtable_class_helper.pxi\u001B[0m in \u001B[0;36mpandas._libs.hashtable.Int64HashTable.get_item\u001B[1;34m()\u001B[0m\n",
      "\u001B[1;31mKeyError\u001B[0m: 1",
      "\nThe above exception was the direct cause of the following exception:\n",
      "\u001B[1;31mKeyError\u001B[0m                                  Traceback (most recent call last)",
      "\u001B[1;32m<ipython-input-6-88d3c9d614b5>\u001B[0m in \u001B[0;36m<module>\u001B[1;34m\u001B[0m\n\u001B[0;32m     65\u001B[0m     \u001B[0mprint\u001B[0m\u001B[1;33m(\u001B[0m\u001B[0mj\u001B[0m\u001B[1;33m,\u001B[0m \u001B[0mstock\u001B[0m\u001B[1;33m)\u001B[0m\u001B[1;33m\u001B[0m\u001B[1;33m\u001B[0m\u001B[0m\n\u001B[0;32m     66\u001B[0m     \u001B[0mj\u001B[0m \u001B[1;33m+=\u001B[0m \u001B[1;36m1\u001B[0m\u001B[1;33m\u001B[0m\u001B[1;33m\u001B[0m\u001B[0m\n\u001B[1;32m---> 67\u001B[1;33m     \u001B[0mpsar\u001B[0m\u001B[1;33m(\u001B[0m\u001B[0mindicators_df\u001B[0m\u001B[1;33m,\u001B[0m \u001B[0mstock\u001B[0m\u001B[1;33m)\u001B[0m\u001B[1;33m\u001B[0m\u001B[1;33m\u001B[0m\u001B[0m\n\u001B[0m\u001B[0;32m     68\u001B[0m \u001B[1;33m\u001B[0m\u001B[0m\n\u001B[0;32m     69\u001B[0m \u001B[0mindicators_df\u001B[0m\u001B[1;33m.\u001B[0m\u001B[0mto_csv\u001B[0m\u001B[1;33m(\u001B[0m\u001B[0mdata_path\u001B[0m \u001B[1;33m+\u001B[0m \u001B[1;34m'\\\\'\u001B[0m \u001B[1;33m+\u001B[0m \u001B[1;34m'stocks_with_indicators.csv'\u001B[0m\u001B[1;33m,\u001B[0m \u001B[0mencoding\u001B[0m\u001B[1;33m=\u001B[0m\u001B[1;34m'utf-8-sig'\u001B[0m\u001B[1;33m,\u001B[0m \u001B[0mindex\u001B[0m\u001B[1;33m=\u001B[0m\u001B[1;32mFalse\u001B[0m\u001B[1;33m)\u001B[0m\u001B[1;33m\u001B[0m\u001B[1;33m\u001B[0m\u001B[0m\n",
      "\u001B[1;32m<ipython-input-6-88d3c9d614b5>\u001B[0m in \u001B[0;36mpsar\u001B[1;34m(df, stock, iaf, maxaf)\u001B[0m\n\u001B[0;32m     19\u001B[0m     \u001B[1;32mfor\u001B[0m \u001B[0mi\u001B[0m \u001B[1;32min\u001B[0m \u001B[0mrange\u001B[0m\u001B[1;33m(\u001B[0m\u001B[1;36m2\u001B[0m\u001B[1;33m,\u001B[0m\u001B[0mlength\u001B[0m\u001B[1;33m)\u001B[0m\u001B[1;33m:\u001B[0m\u001B[1;33m\u001B[0m\u001B[1;33m\u001B[0m\u001B[0m\n\u001B[0;32m     20\u001B[0m         \u001B[1;32mif\u001B[0m \u001B[0mbull\u001B[0m\u001B[1;33m:\u001B[0m\u001B[1;33m\u001B[0m\u001B[1;33m\u001B[0m\u001B[0m\n\u001B[1;32m---> 21\u001B[1;33m             \u001B[0mpsar\u001B[0m\u001B[1;33m[\u001B[0m\u001B[0mi\u001B[0m\u001B[1;33m]\u001B[0m \u001B[1;33m=\u001B[0m \u001B[0mpsar\u001B[0m\u001B[1;33m[\u001B[0m\u001B[0mi\u001B[0m \u001B[1;33m-\u001B[0m \u001B[1;36m1\u001B[0m\u001B[1;33m]\u001B[0m \u001B[1;33m+\u001B[0m \u001B[0maf\u001B[0m \u001B[1;33m*\u001B[0m \u001B[1;33m(\u001B[0m\u001B[0mhp\u001B[0m \u001B[1;33m-\u001B[0m \u001B[0mpsar\u001B[0m\u001B[1;33m[\u001B[0m\u001B[0mi\u001B[0m \u001B[1;33m-\u001B[0m \u001B[1;36m1\u001B[0m\u001B[1;33m]\u001B[0m\u001B[1;33m)\u001B[0m\u001B[1;33m\u001B[0m\u001B[1;33m\u001B[0m\u001B[0m\n\u001B[0m\u001B[0;32m     22\u001B[0m         \u001B[1;32melse\u001B[0m\u001B[1;33m:\u001B[0m\u001B[1;33m\u001B[0m\u001B[1;33m\u001B[0m\u001B[0m\n\u001B[0;32m     23\u001B[0m             \u001B[0mpsar\u001B[0m\u001B[1;33m[\u001B[0m\u001B[0mi\u001B[0m\u001B[1;33m]\u001B[0m \u001B[1;33m=\u001B[0m \u001B[0mpsar\u001B[0m\u001B[1;33m[\u001B[0m\u001B[0mi\u001B[0m \u001B[1;33m-\u001B[0m \u001B[1;36m1\u001B[0m\u001B[1;33m]\u001B[0m \u001B[1;33m+\u001B[0m \u001B[0maf\u001B[0m \u001B[1;33m*\u001B[0m \u001B[1;33m(\u001B[0m\u001B[0mlp\u001B[0m \u001B[1;33m-\u001B[0m \u001B[0mpsar\u001B[0m\u001B[1;33m[\u001B[0m\u001B[0mi\u001B[0m \u001B[1;33m-\u001B[0m \u001B[1;36m1\u001B[0m\u001B[1;33m]\u001B[0m\u001B[1;33m)\u001B[0m\u001B[1;33m\u001B[0m\u001B[1;33m\u001B[0m\u001B[0m\n",
      "\u001B[1;32mc:\\users\\kia\\documents\\mypycharm\\bachelor_project\\venv\\lib\\site-packages\\pandas\\core\\series.py\u001B[0m in \u001B[0;36m__getitem__\u001B[1;34m(self, key)\u001B[0m\n\u001B[0;32m    880\u001B[0m \u001B[1;33m\u001B[0m\u001B[0m\n\u001B[0;32m    881\u001B[0m         \u001B[1;32melif\u001B[0m \u001B[0mkey_is_scalar\u001B[0m\u001B[1;33m:\u001B[0m\u001B[1;33m\u001B[0m\u001B[1;33m\u001B[0m\u001B[0m\n\u001B[1;32m--> 882\u001B[1;33m             \u001B[1;32mreturn\u001B[0m \u001B[0mself\u001B[0m\u001B[1;33m.\u001B[0m\u001B[0m_get_value\u001B[0m\u001B[1;33m(\u001B[0m\u001B[0mkey\u001B[0m\u001B[1;33m)\u001B[0m\u001B[1;33m\u001B[0m\u001B[1;33m\u001B[0m\u001B[0m\n\u001B[0m\u001B[0;32m    883\u001B[0m \u001B[1;33m\u001B[0m\u001B[0m\n\u001B[0;32m    884\u001B[0m         if (\n",
      "\u001B[1;32mc:\\users\\kia\\documents\\mypycharm\\bachelor_project\\venv\\lib\\site-packages\\pandas\\core\\series.py\u001B[0m in \u001B[0;36m_get_value\u001B[1;34m(self, label, takeable)\u001B[0m\n\u001B[0;32m    989\u001B[0m \u001B[1;33m\u001B[0m\u001B[0m\n\u001B[0;32m    990\u001B[0m         \u001B[1;31m# Similar to Index.get_value, but we do not fall back to positional\u001B[0m\u001B[1;33m\u001B[0m\u001B[1;33m\u001B[0m\u001B[1;33m\u001B[0m\u001B[0m\n\u001B[1;32m--> 991\u001B[1;33m         \u001B[0mloc\u001B[0m \u001B[1;33m=\u001B[0m \u001B[0mself\u001B[0m\u001B[1;33m.\u001B[0m\u001B[0mindex\u001B[0m\u001B[1;33m.\u001B[0m\u001B[0mget_loc\u001B[0m\u001B[1;33m(\u001B[0m\u001B[0mlabel\u001B[0m\u001B[1;33m)\u001B[0m\u001B[1;33m\u001B[0m\u001B[1;33m\u001B[0m\u001B[0m\n\u001B[0m\u001B[0;32m    992\u001B[0m         \u001B[1;32mreturn\u001B[0m \u001B[0mself\u001B[0m\u001B[1;33m.\u001B[0m\u001B[0mindex\u001B[0m\u001B[1;33m.\u001B[0m\u001B[0m_get_values_for_loc\u001B[0m\u001B[1;33m(\u001B[0m\u001B[0mself\u001B[0m\u001B[1;33m,\u001B[0m \u001B[0mloc\u001B[0m\u001B[1;33m,\u001B[0m \u001B[0mlabel\u001B[0m\u001B[1;33m)\u001B[0m\u001B[1;33m\u001B[0m\u001B[1;33m\u001B[0m\u001B[0m\n\u001B[0;32m    993\u001B[0m \u001B[1;33m\u001B[0m\u001B[0m\n",
      "\u001B[1;32mc:\\users\\kia\\documents\\mypycharm\\bachelor_project\\venv\\lib\\site-packages\\pandas\\core\\indexes\\base.py\u001B[0m in \u001B[0;36mget_loc\u001B[1;34m(self, key, method, tolerance)\u001B[0m\n\u001B[0;32m   2891\u001B[0m                 \u001B[1;32mreturn\u001B[0m \u001B[0mself\u001B[0m\u001B[1;33m.\u001B[0m\u001B[0m_engine\u001B[0m\u001B[1;33m.\u001B[0m\u001B[0mget_loc\u001B[0m\u001B[1;33m(\u001B[0m\u001B[0mcasted_key\u001B[0m\u001B[1;33m)\u001B[0m\u001B[1;33m\u001B[0m\u001B[1;33m\u001B[0m\u001B[0m\n\u001B[0;32m   2892\u001B[0m             \u001B[1;32mexcept\u001B[0m \u001B[0mKeyError\u001B[0m \u001B[1;32mas\u001B[0m \u001B[0merr\u001B[0m\u001B[1;33m:\u001B[0m\u001B[1;33m\u001B[0m\u001B[1;33m\u001B[0m\u001B[0m\n\u001B[1;32m-> 2893\u001B[1;33m                 \u001B[1;32mraise\u001B[0m \u001B[0mKeyError\u001B[0m\u001B[1;33m(\u001B[0m\u001B[0mkey\u001B[0m\u001B[1;33m)\u001B[0m \u001B[1;32mfrom\u001B[0m \u001B[0merr\u001B[0m\u001B[1;33m\u001B[0m\u001B[1;33m\u001B[0m\u001B[0m\n\u001B[0m\u001B[0;32m   2894\u001B[0m \u001B[1;33m\u001B[0m\u001B[0m\n\u001B[0;32m   2895\u001B[0m         \u001B[1;32mif\u001B[0m \u001B[0mtolerance\u001B[0m \u001B[1;32mis\u001B[0m \u001B[1;32mnot\u001B[0m \u001B[1;32mNone\u001B[0m\u001B[1;33m:\u001B[0m\u001B[1;33m\u001B[0m\u001B[1;33m\u001B[0m\u001B[0m\n",
      "\u001B[1;31mKeyError\u001B[0m: 1"
     ]
    }
   ],
   "source": [
    "print('ff')\n",
    "\n"
   ],
   "metadata": {
    "collapsed": false,
    "pycharm": {
     "name": "#%%\n"
    }
   }
  },
  {
   "cell_type": "code",
   "execution_count": 16,
   "outputs": [
    {
     "name": "stdout",
     "output_type": "stream",
     "text": [
      "1 شفن\n",
      "i = 100979\n"
     ]
    },
    {
     "ename": "IndexError",
     "evalue": "single positional indexer is out-of-bounds",
     "output_type": "error",
     "traceback": [
      "\u001B[1;31m---------------------------------------------------------------------------\u001B[0m",
      "\u001B[1;31mIndexError\u001B[0m                                Traceback (most recent call last)",
      "\u001B[1;32m<ipython-input-16-733964034e6f>\u001B[0m in \u001B[0;36m<module>\u001B[1;34m\u001B[0m\n\u001B[0;32m     67\u001B[0m     \u001B[0mj\u001B[0m \u001B[1;33m+=\u001B[0m \u001B[1;36m1\u001B[0m\u001B[1;33m\u001B[0m\u001B[1;33m\u001B[0m\u001B[0m\n\u001B[0;32m     68\u001B[0m     \u001B[0mprint\u001B[0m\u001B[1;33m(\u001B[0m\u001B[0mj\u001B[0m\u001B[1;33m,\u001B[0m \u001B[0mstock\u001B[0m\u001B[1;33m)\u001B[0m\u001B[1;33m\u001B[0m\u001B[1;33m\u001B[0m\u001B[0m\n\u001B[1;32m---> 69\u001B[1;33m     \u001B[0mpsar\u001B[0m\u001B[1;33m(\u001B[0m\u001B[0mindicators_df\u001B[0m\u001B[1;33m,\u001B[0m \u001B[0mstock\u001B[0m\u001B[1;33m)\u001B[0m\u001B[1;33m\u001B[0m\u001B[1;33m\u001B[0m\u001B[0m\n\u001B[0m\u001B[0;32m     70\u001B[0m \u001B[1;33m\u001B[0m\u001B[0m\n\u001B[0;32m     71\u001B[0m \u001B[0mindicators_df\u001B[0m\u001B[1;33m.\u001B[0m\u001B[0mto_csv\u001B[0m\u001B[1;33m(\u001B[0m\u001B[0mdata_path\u001B[0m \u001B[1;33m+\u001B[0m \u001B[1;34m'\\\\'\u001B[0m \u001B[1;33m+\u001B[0m \u001B[1;34m'stocks_with_indicators.csv'\u001B[0m\u001B[1;33m,\u001B[0m \u001B[0mencoding\u001B[0m\u001B[1;33m=\u001B[0m\u001B[1;34m'utf-8-sig'\u001B[0m\u001B[1;33m,\u001B[0m \u001B[0mindex\u001B[0m\u001B[1;33m=\u001B[0m\u001B[1;32mFalse\u001B[0m\u001B[1;33m)\u001B[0m\u001B[1;33m\u001B[0m\u001B[1;33m\u001B[0m\u001B[0m\n",
      "\u001B[1;32m<ipython-input-16-733964034e6f>\u001B[0m in \u001B[0;36mpsar\u001B[1;34m(df, stock, iaf, maxaf)\u001B[0m\n\u001B[0;32m     21\u001B[0m         \u001B[0mprint\u001B[0m\u001B[1;33m(\u001B[0m\u001B[1;34m\"i = {}\"\u001B[0m\u001B[1;33m.\u001B[0m\u001B[0mformat\u001B[0m\u001B[1;33m(\u001B[0m\u001B[0mi\u001B[0m\u001B[1;33m)\u001B[0m\u001B[1;33m)\u001B[0m\u001B[1;33m\u001B[0m\u001B[1;33m\u001B[0m\u001B[0m\n\u001B[0;32m     22\u001B[0m         \u001B[1;32mif\u001B[0m \u001B[0mbull\u001B[0m\u001B[1;33m:\u001B[0m\u001B[1;33m\u001B[0m\u001B[1;33m\u001B[0m\u001B[0m\n\u001B[1;32m---> 23\u001B[1;33m             \u001B[0mpsar\u001B[0m\u001B[1;33m.\u001B[0m\u001B[0miloc\u001B[0m\u001B[1;33m[\u001B[0m\u001B[0mi\u001B[0m\u001B[1;33m]\u001B[0m \u001B[1;33m=\u001B[0m \u001B[0mpsar\u001B[0m\u001B[1;33m.\u001B[0m\u001B[0miloc\u001B[0m\u001B[1;33m[\u001B[0m\u001B[0mi\u001B[0m \u001B[1;33m-\u001B[0m \u001B[1;36m1\u001B[0m\u001B[1;33m]\u001B[0m \u001B[1;33m+\u001B[0m \u001B[0maf\u001B[0m \u001B[1;33m*\u001B[0m \u001B[1;33m(\u001B[0m\u001B[0mhp\u001B[0m \u001B[1;33m-\u001B[0m \u001B[0mpsar\u001B[0m\u001B[1;33m.\u001B[0m\u001B[0miloc\u001B[0m\u001B[1;33m[\u001B[0m\u001B[0mi\u001B[0m \u001B[1;33m-\u001B[0m \u001B[1;36m1\u001B[0m\u001B[1;33m]\u001B[0m\u001B[1;33m)\u001B[0m\u001B[1;33m\u001B[0m\u001B[1;33m\u001B[0m\u001B[0m\n\u001B[0m\u001B[0;32m     24\u001B[0m         \u001B[1;32melse\u001B[0m\u001B[1;33m:\u001B[0m\u001B[1;33m\u001B[0m\u001B[1;33m\u001B[0m\u001B[0m\n\u001B[0;32m     25\u001B[0m             \u001B[0mpsar\u001B[0m\u001B[1;33m.\u001B[0m\u001B[0miloc\u001B[0m\u001B[1;33m[\u001B[0m\u001B[0mi\u001B[0m\u001B[1;33m]\u001B[0m \u001B[1;33m=\u001B[0m \u001B[0mpsar\u001B[0m\u001B[1;33m.\u001B[0m\u001B[0miloc\u001B[0m\u001B[1;33m[\u001B[0m\u001B[0mi\u001B[0m \u001B[1;33m-\u001B[0m \u001B[1;36m1\u001B[0m\u001B[1;33m]\u001B[0m \u001B[1;33m+\u001B[0m \u001B[0maf\u001B[0m \u001B[1;33m*\u001B[0m \u001B[1;33m(\u001B[0m\u001B[0mlp\u001B[0m \u001B[1;33m-\u001B[0m \u001B[0mpsar\u001B[0m\u001B[1;33m.\u001B[0m\u001B[0miloc\u001B[0m\u001B[1;33m[\u001B[0m\u001B[0mi\u001B[0m \u001B[1;33m-\u001B[0m \u001B[1;36m1\u001B[0m\u001B[1;33m]\u001B[0m\u001B[1;33m)\u001B[0m\u001B[1;33m\u001B[0m\u001B[1;33m\u001B[0m\u001B[0m\n",
      "\u001B[1;32mc:\\users\\kia\\documents\\mypycharm\\bachelor_project\\venv\\lib\\site-packages\\pandas\\core\\indexing.py\u001B[0m in \u001B[0;36m__getitem__\u001B[1;34m(self, key)\u001B[0m\n\u001B[0;32m    877\u001B[0m \u001B[1;33m\u001B[0m\u001B[0m\n\u001B[0;32m    878\u001B[0m             \u001B[0mmaybe_callable\u001B[0m \u001B[1;33m=\u001B[0m \u001B[0mcom\u001B[0m\u001B[1;33m.\u001B[0m\u001B[0mapply_if_callable\u001B[0m\u001B[1;33m(\u001B[0m\u001B[0mkey\u001B[0m\u001B[1;33m,\u001B[0m \u001B[0mself\u001B[0m\u001B[1;33m.\u001B[0m\u001B[0mobj\u001B[0m\u001B[1;33m)\u001B[0m\u001B[1;33m\u001B[0m\u001B[1;33m\u001B[0m\u001B[0m\n\u001B[1;32m--> 879\u001B[1;33m             \u001B[1;32mreturn\u001B[0m \u001B[0mself\u001B[0m\u001B[1;33m.\u001B[0m\u001B[0m_getitem_axis\u001B[0m\u001B[1;33m(\u001B[0m\u001B[0mmaybe_callable\u001B[0m\u001B[1;33m,\u001B[0m \u001B[0maxis\u001B[0m\u001B[1;33m=\u001B[0m\u001B[0maxis\u001B[0m\u001B[1;33m)\u001B[0m\u001B[1;33m\u001B[0m\u001B[1;33m\u001B[0m\u001B[0m\n\u001B[0m\u001B[0;32m    880\u001B[0m \u001B[1;33m\u001B[0m\u001B[0m\n\u001B[0;32m    881\u001B[0m     \u001B[1;32mdef\u001B[0m \u001B[0m_is_scalar_access\u001B[0m\u001B[1;33m(\u001B[0m\u001B[0mself\u001B[0m\u001B[1;33m,\u001B[0m \u001B[0mkey\u001B[0m\u001B[1;33m:\u001B[0m \u001B[0mTuple\u001B[0m\u001B[1;33m)\u001B[0m\u001B[1;33m:\u001B[0m\u001B[1;33m\u001B[0m\u001B[1;33m\u001B[0m\u001B[0m\n",
      "\u001B[1;32mc:\\users\\kia\\documents\\mypycharm\\bachelor_project\\venv\\lib\\site-packages\\pandas\\core\\indexing.py\u001B[0m in \u001B[0;36m_getitem_axis\u001B[1;34m(self, key, axis)\u001B[0m\n\u001B[0;32m   1494\u001B[0m \u001B[1;33m\u001B[0m\u001B[0m\n\u001B[0;32m   1495\u001B[0m             \u001B[1;31m# validate the location\u001B[0m\u001B[1;33m\u001B[0m\u001B[1;33m\u001B[0m\u001B[1;33m\u001B[0m\u001B[0m\n\u001B[1;32m-> 1496\u001B[1;33m             \u001B[0mself\u001B[0m\u001B[1;33m.\u001B[0m\u001B[0m_validate_integer\u001B[0m\u001B[1;33m(\u001B[0m\u001B[0mkey\u001B[0m\u001B[1;33m,\u001B[0m \u001B[0maxis\u001B[0m\u001B[1;33m)\u001B[0m\u001B[1;33m\u001B[0m\u001B[1;33m\u001B[0m\u001B[0m\n\u001B[0m\u001B[0;32m   1497\u001B[0m \u001B[1;33m\u001B[0m\u001B[0m\n\u001B[0;32m   1498\u001B[0m             \u001B[1;32mreturn\u001B[0m \u001B[0mself\u001B[0m\u001B[1;33m.\u001B[0m\u001B[0mobj\u001B[0m\u001B[1;33m.\u001B[0m\u001B[0m_ixs\u001B[0m\u001B[1;33m(\u001B[0m\u001B[0mkey\u001B[0m\u001B[1;33m,\u001B[0m \u001B[0maxis\u001B[0m\u001B[1;33m=\u001B[0m\u001B[0maxis\u001B[0m\u001B[1;33m)\u001B[0m\u001B[1;33m\u001B[0m\u001B[1;33m\u001B[0m\u001B[0m\n",
      "\u001B[1;32mc:\\users\\kia\\documents\\mypycharm\\bachelor_project\\venv\\lib\\site-packages\\pandas\\core\\indexing.py\u001B[0m in \u001B[0;36m_validate_integer\u001B[1;34m(self, key, axis)\u001B[0m\n\u001B[0;32m   1435\u001B[0m         \u001B[0mlen_axis\u001B[0m \u001B[1;33m=\u001B[0m \u001B[0mlen\u001B[0m\u001B[1;33m(\u001B[0m\u001B[0mself\u001B[0m\u001B[1;33m.\u001B[0m\u001B[0mobj\u001B[0m\u001B[1;33m.\u001B[0m\u001B[0m_get_axis\u001B[0m\u001B[1;33m(\u001B[0m\u001B[0maxis\u001B[0m\u001B[1;33m)\u001B[0m\u001B[1;33m)\u001B[0m\u001B[1;33m\u001B[0m\u001B[1;33m\u001B[0m\u001B[0m\n\u001B[0;32m   1436\u001B[0m         \u001B[1;32mif\u001B[0m \u001B[0mkey\u001B[0m \u001B[1;33m>=\u001B[0m \u001B[0mlen_axis\u001B[0m \u001B[1;32mor\u001B[0m \u001B[0mkey\u001B[0m \u001B[1;33m<\u001B[0m \u001B[1;33m-\u001B[0m\u001B[0mlen_axis\u001B[0m\u001B[1;33m:\u001B[0m\u001B[1;33m\u001B[0m\u001B[1;33m\u001B[0m\u001B[0m\n\u001B[1;32m-> 1437\u001B[1;33m             \u001B[1;32mraise\u001B[0m \u001B[0mIndexError\u001B[0m\u001B[1;33m(\u001B[0m\u001B[1;34m\"single positional indexer is out-of-bounds\"\u001B[0m\u001B[1;33m)\u001B[0m\u001B[1;33m\u001B[0m\u001B[1;33m\u001B[0m\u001B[0m\n\u001B[0m\u001B[0;32m   1438\u001B[0m \u001B[1;33m\u001B[0m\u001B[0m\n\u001B[0;32m   1439\u001B[0m     \u001B[1;31m# -------------------------------------------------------------------\u001B[0m\u001B[1;33m\u001B[0m\u001B[1;33m\u001B[0m\u001B[1;33m\u001B[0m\u001B[0m\n",
      "\u001B[1;31mIndexError\u001B[0m: single positional indexer is out-of-bounds"
     ]
    }
   ],
   "source": [
    "print('hi')\n"
   ],
   "metadata": {
    "collapsed": false,
    "pycharm": {
     "name": "#%%\n"
    }
   }
  },
  {
   "cell_type": "code",
   "execution_count": 27,
   "outputs": [
    {
     "name": "stdout",
     "output_type": "stream",
     "text": [
      "0 شفن\n",
      "1 بفجر\n",
      "2 غالبر\n",
      "3 وآذر\n",
      "4 دپارس\n",
      "5 ملت\n",
      "6 فلامي\n",
      "7 قصفها\n",
      "8 پكوير\n",
      "9 سكرد\n",
      "10 داسوهح\n",
      "11 دالبر\n",
      "12 كاوهح\n",
      "13 غبهنوش\n",
      "14 پاسا\n",
      "15 وملي\n",
      "16 سخوز\n",
      "17 وپاسار\n",
      "18 وخارزم\n",
      "19 تمحركه\n"
     ]
    }
   ],
   "source": [
    "# 'Calculation of Parabolic SAR.\n",
    "indicators_df['psar'] = 0\n",
    "\n",
    "def psar(df, stock, iaf = 0.02, maxaf = 0.2):\n",
    "    length = len(df.loc[df['persian_symbol'] == stock])\n",
    "    dates = (df.loc[df['persian_symbol'] == stock , 'pd_trade_date'])\n",
    "    high = (df.loc[df['persian_symbol'] == stock , 'max_price'])\n",
    "    low = (df.loc[df['persian_symbol'] == stock , 'min_price'])\n",
    "    close = (df.loc[df['persian_symbol'] == stock , 'final_price'])\n",
    "    final_len = len(df.loc[df['persian_symbol'] == stock , 'final_price'])\n",
    "    psar = df.loc[(df['persian_symbol'] == stock) , 'final_price'] #& (df.index.isin(df.index[0: final_len]))\n",
    "    indices = psar.index.values\n",
    "    psarbull = [None] * length\n",
    "    psarbear = [None] * length\n",
    "    bull = True\n",
    "    af = iaf\n",
    "    # ep = df.loc[(df['persian_symbol'] == stock) & (df.index == 0)  , 'min_price']\n",
    "    hp = df.loc[(df['persian_symbol'] == stock) & (df.index == 0)  , 'max_price'].max()\n",
    "    lp = df.loc[(df['persian_symbol'] == stock) & (df.index == 0)  , 'min_price'].min()\n",
    "    k = 0\n",
    "    for i in range(indices[1], indices[-1]):\n",
    "        # print(\"_i = {}\".format(i))\n",
    "        # print(psar.index.values)\n",
    "        if bull:\n",
    "            psar.loc[psar.index == i] = psar.loc[psar.index == i - 1] + af * (hp - psar.loc[psar.index == i - 1])\n",
    "        else:\n",
    "            psar.loc[psar.index == i] = psar.loc[psar.index == i - 1] + af * (lp - psar.loc[psar.index == i - 1])\n",
    "        # print('here----------------------------------------------------------')\n",
    "        reverse = False\n",
    "        if bull:\n",
    "            if df.loc[(df['persian_symbol'] == stock) & (df.index == i)  , 'min_price'].max() < \\\n",
    "                    psar.loc[psar.index == i].max():\n",
    "                bull = False\n",
    "                reverse = True\n",
    "                psar.loc[psar.index == i] = hp\n",
    "                lp = df.loc[(df['persian_symbol'] == stock) & (df.index == i)  , 'min_price'].min()\n",
    "                af = iaf\n",
    "        else:\n",
    "            if df.loc[(df['persian_symbol'] == stock) & (df.index == i)  , 'max_price'].max() > \\\n",
    "                    psar.loc[psar.index == i].max():\n",
    "                bull = True\n",
    "                reverse = True\n",
    "                psar.loc[psar.index == i] = lp\n",
    "                hp = df.loc[(df['persian_symbol'] == stock) & (df.index == i)  , 'max_price'].max()\n",
    "                af = iaf\n",
    "        if not reverse:\n",
    "            if bull:\n",
    "                if df.loc[(df['persian_symbol'] == stock) & (df.index == i)  , 'max_price'].max() > hp:\n",
    "                    hp = df.loc[(df['persian_symbol'] == stock) & (df.index == i)  , 'max_price'].max()\n",
    "                    af = min(af + iaf, maxaf)\n",
    "                if df.loc[(df['persian_symbol'] == stock) & (df.index == i-1)  , 'min_price'].min() < \\\n",
    "                        psar.loc[psar.index == i].max():\n",
    "                    psar.loc[psar.index == i] = \\\n",
    "                        df.loc[(df['persian_symbol'] == stock) & (df.index == i-1)  , 'min_price'].min()\n",
    "                if df.loc[(df['persian_symbol'] == stock) & (df.index == i-2)  , 'min_price'].min() < \\\n",
    "                        psar.loc[psar.index == i].max():\n",
    "                    psar.loc[psar.index == i] = \\\n",
    "                        df.loc[(df['persian_symbol'] == stock) & (df.index == i-2)  , 'min_price'].min()\n",
    "            else:\n",
    "                if df.loc[(df['persian_symbol'] == stock) & (df.index == i)  , 'min_price'].min() < lp:\n",
    "                    lp = df.loc[(df['persian_symbol'] == stock) & (df.index == i)  , 'min_price'].min()\n",
    "                    af = min(af + iaf, maxaf)\n",
    "                if df.loc[(df['persian_symbol'] == stock) & (df.index == i-1)  , 'max_price'].max() > \\\n",
    "                        psar.loc[psar.index == i].max():\n",
    "                    psar.loc[psar.index == i] = \\\n",
    "                        df.loc[(df['persian_symbol'] == stock) & (df.index == i-1)  , 'max_price'].max()\n",
    "                if df.loc[(df['persian_symbol'] == stock) & (df.index == i-2)  , 'max_price'].max() > \\\n",
    "                        psar.loc[psar.index == i].max():\n",
    "                    psar.loc[psar.index == i] = \\\n",
    "                        df.loc[(df['persian_symbol'] == stock) & (df.index == i-2)  , 'max_price'].max()\n",
    "        if bull:\n",
    "            psarbull[k] = psar.loc[psar.index == i].max()\n",
    "        else:\n",
    "            psarbear[k] = psar.loc[psar.index == i].max()\n",
    "        k += 1\n",
    "\n",
    "    df['psar'] = psar\n",
    "\n",
    "j = 0\n",
    "for stock in selected_symbols:\n",
    "    print(j, stock)\n",
    "    j += 1\n",
    "    psar(indicators_df, stock)\n",
    "\n",
    "indicators_df.to_csv(data_path + '\\\\' + 'selected_stocks_with_indicators.csv', encoding='utf-8-sig', index=False)\n",
    "\n"
   ],
   "metadata": {
    "collapsed": false,
    "pycharm": {
     "name": "#%%\n"
    }
   }
  },
  {
   "cell_type": "code",
   "execution_count": 28,
   "outputs": [
    {
     "name": "stdout",
     "output_type": "stream",
     "text": [
      "done\n"
     ]
    }
   ],
   "source": [
    "# 'Calculation of Price Rate of Change'\n",
    "# ROC = [(Close - Close n periods ago) / (Close n periods ago)] * 100\n",
    "for stock in selected_symbols:\n",
    "    indicators_df.loc[(indicators_df['persian_symbol'] == stock), 'ROC'] = \\\n",
    "        ((indicators_df.loc[(indicators_df['persian_symbol'] == stock), 'final_price'] -\n",
    "        indicators_df.loc[(indicators_df['persian_symbol'] == stock), 'final_price'].shift(4))/\n",
    "         (indicators_df.loc[(indicators_df['persian_symbol'] == stock), 'final_price'].shift(4)))*100\n",
    "\n",
    "indicators_df.fillna(0, inplace=True)\n",
    "\n",
    "indicators_df.to_csv(data_path + '\\\\' + 'selected_stocks_with_indicators.csv', encoding='utf-8-sig', index=False)\n",
    "print('done')\n",
    "\n"
   ],
   "metadata": {
    "collapsed": false,
    "pycharm": {
     "name": "#%%\n"
    }
   }
  },
  {
   "cell_type": "code",
   "execution_count": 35,
   "outputs": [
    {
     "name": "stdout",
     "output_type": "stream",
     "text": [
      "Calculation of Volume Weighted Average Price\n"
     ]
    },
    {
     "ename": "AttributeError",
     "evalue": "'NoneType' object has no attribute 'loc'",
     "output_type": "error",
     "traceback": [
      "\u001B[1;31m---------------------------------------------------------------------------\u001B[0m",
      "\u001B[1;31mAttributeError\u001B[0m                            Traceback (most recent call last)",
      "\u001B[1;32m<ipython-input-35-680a428f2087>\u001B[0m in \u001B[0;36m<module>\u001B[1;34m\u001B[0m\n\u001B[0;32m      3\u001B[0m \u001B[1;32mfor\u001B[0m \u001B[0mstock\u001B[0m \u001B[1;32min\u001B[0m \u001B[0mselected_symbols\u001B[0m\u001B[1;33m:\u001B[0m\u001B[1;33m\u001B[0m\u001B[1;33m\u001B[0m\u001B[0m\n\u001B[0;32m      4\u001B[0m     \u001B[0mindicators_df\u001B[0m\u001B[1;33m.\u001B[0m\u001B[0mloc\u001B[0m\u001B[1;33m[\u001B[0m\u001B[1;33m(\u001B[0m\u001B[0mindicators_df\u001B[0m\u001B[1;33m[\u001B[0m\u001B[1;34m'persian_symbol'\u001B[0m\u001B[1;33m]\u001B[0m \u001B[1;33m==\u001B[0m \u001B[0mstock\u001B[0m\u001B[1;33m)\u001B[0m\u001B[1;33m,\u001B[0m \u001B[1;34m'VWAP'\u001B[0m\u001B[1;33m]\u001B[0m \u001B[1;33m=\u001B[0m\u001B[0;31m \u001B[0m\u001B[0;31m\\\u001B[0m\u001B[1;33m\u001B[0m\u001B[1;33m\u001B[0m\u001B[0m\n\u001B[1;32m----> 5\u001B[1;33m         np.cumsum(indicators_df.loc[(indicators_df['persian_symbol'] == stock), 'volume'] * \n\u001B[0m\u001B[0;32m      6\u001B[0m                   (indicators_df.loc[(indicators_df['persian_symbol'] == stock), 'max_price'] + \n\u001B[0;32m      7\u001B[0m                    indicators_df.loc[(indicators_df['persian_symbol'] == stock), 'min_price'])/2) / \\\n",
      "\u001B[1;31mAttributeError\u001B[0m: 'NoneType' object has no attribute 'loc'"
     ]
    }
   ],
   "source": [
    "print('f23')"
   ],
   "metadata": {
    "collapsed": false,
    "pycharm": {
     "name": "#%%\n"
    }
   }
  },
  {
   "cell_type": "code",
   "execution_count": 6,
   "outputs": [
    {
     "name": "stdout",
     "output_type": "stream",
     "text": [
      "done\n"
     ]
    }
   ],
   "source": [
    "# Calculation of Volume Weighted Average Price\n",
    "indicators_df['VWAP'] = 0\n",
    "\n",
    "for stock in selected_symbols:\n",
    "    indicators_df.loc[(indicators_df['persian_symbol'] == stock), 'VWAP'] = \\\n",
    "        np.cumsum(indicators_df.loc[(indicators_df['persian_symbol'] == stock), 'volume'] *\n",
    "                  (indicators_df.loc[(indicators_df['persian_symbol'] == stock), 'max_price'] +\n",
    "                   indicators_df.loc[(indicators_df['persian_symbol'] == stock), 'min_price'])/2) / \\\n",
    "        np.cumsum(indicators_df.loc[(indicators_df['persian_symbol'] == stock), 'volume'])\n",
    "\n",
    "indicators_df.fillna(0, inplace=True)\n",
    "indicators_df.to_csv(data_path + '\\\\' + 'selected_stocks_with_indicators.csv', encoding='utf-8-sig', index=False)\n",
    "print('done')\n",
    "\n",
    "\n"
   ],
   "metadata": {
    "collapsed": false,
    "pycharm": {
     "name": "#%%\n"
    }
   }
  },
  {
   "cell_type": "code",
   "execution_count": 7,
   "outputs": [
    {
     "name": "stdout",
     "output_type": "stream",
     "text": [
      "done\n"
     ]
    }
   ],
   "source": [
    "# Calculation of the Momentum\n",
    "indicators_df['Momentum'] = 0\n",
    "\n",
    "for stock in selected_symbols:\n",
    "    indicators_df.loc[(indicators_df['persian_symbol'] == stock), 'Momentum'] = \\\n",
    "        indicators_df.loc[(indicators_df['persian_symbol'] == stock), 'final_price'] - \\\n",
    "        indicators_df.loc[(indicators_df['persian_symbol'] == stock), 'final_price'].shift(4)\n",
    "\n",
    "indicators_df.fillna(0, inplace=True)\n",
    "\n",
    "indicators_df.to_csv(data_path + '\\\\' + 'selected_stocks_with_indicators.csv', encoding='utf-8-sig', index=False)\n",
    "print('done')\n"
   ],
   "metadata": {
    "collapsed": false,
    "pycharm": {
     "name": "#%%\n"
    }
   }
  },
  {
   "cell_type": "code",
   "execution_count": 10,
   "outputs": [],
   "source": [
    "print('hyd')\n"
   ],
   "metadata": {
    "collapsed": false,
    "pycharm": {
     "name": "#%%\n"
    }
   }
  },
  {
   "cell_type": "code",
   "execution_count": 12,
   "outputs": [
    {
     "name": "stdout",
     "output_type": "stream",
     "text": [
      "done\n"
     ]
    }
   ],
   "source": [
    "# Calculation of Commodity Channel Index\n",
    "def CCI(df, n, constant, stock):\n",
    "    TP = (df.loc[(indicators_df['persian_symbol'] == stock), 'max_price'] +\n",
    "          df.loc[(indicators_df['persian_symbol'] == stock), 'min_price'] +\n",
    "          df.loc[(indicators_df['persian_symbol'] == stock), 'final_price']) / 3\n",
    "\n",
    "    CCI = pd.Series((TP - TP.rolling(window=n, center=False).mean()) /\n",
    "                    (constant * TP.rolling(window=n, center=False).std())) #, name = 'CCI_' + str(n))\n",
    "    return CCI\n",
    "\n",
    "for stock in selected_symbols:\n",
    "    indicators_df.loc[(indicators_df['persian_symbol'] == stock), 'CCI'] = CCI(indicators_df, 4, 0.015, stock)\n",
    "\n",
    "indicators_df.fillna(0, inplace=True)\n",
    "indicators_df.to_csv(data_path + '\\\\' + 'selected_stocks_with_indicators.csv', encoding='utf-8-sig', index=False)\n",
    "print('done')\n",
    "\n"
   ],
   "metadata": {
    "collapsed": false,
    "pycharm": {
     "name": "#%%\n"
    }
   }
  },
  {
   "cell_type": "code",
   "execution_count": 16,
   "outputs": [
    {
     "ename": "IndentationError",
     "evalue": "expected an indented block (<ipython-input-16-6d24d9e5e8b9>, line 5)",
     "output_type": "error",
     "traceback": [
      "\u001B[1;36m  File \u001B[1;32m\"<ipython-input-16-6d24d9e5e8b9>\"\u001B[1;36m, line \u001B[1;32m5\u001B[0m\n\u001B[1;33m    indicators_df.fillna(0, inplace=True)\u001B[0m\n\u001B[1;37m    ^\u001B[0m\n\u001B[1;31mIndentationError\u001B[0m\u001B[1;31m:\u001B[0m expected an indented block\n"
     ]
    }
   ],
   "source": [
    "print('gg')\n",
    "\n"
   ],
   "metadata": {
    "collapsed": false,
    "pycharm": {
     "name": "#%%\n"
    }
   }
  },
  {
   "cell_type": "code",
   "execution_count": 5,
   "outputs": [
    {
     "name": "stdout",
     "output_type": "stream",
     "text": [
      "done\n"
     ]
    }
   ],
   "source": [
    "# Calculation of On Balance Volume\n",
    "for stock in selected_symbols:\n",
    "    new = (indicators_df.loc[(indicators_df['persian_symbol'] == stock), 'volume'] *\n",
    "           (~indicators_df.loc[(indicators_df['persian_symbol'] == stock), 'final_price'].diff().le(0) * 2 -1)).cumsum()\n",
    "    indicators_df.loc[(indicators_df['persian_symbol'] == stock), 'OBV'] = new\n",
    "\n",
    "\n",
    "indicators_df.fillna(0, inplace=True)\n",
    "indicators_df.to_csv(data_path + '\\\\' + 'selected_stocks_with_indicators.csv', encoding='utf-8-sig', index=False)\n",
    "print('done')\n",
    "\n"
   ],
   "metadata": {
    "collapsed": false,
    "pycharm": {
     "name": "#%%\n"
    }
   }
  },
  {
   "cell_type": "code",
   "execution_count": 7,
   "outputs": [],
   "source": [
    "print(3)\n",
    "\n"
   ],
   "metadata": {
    "collapsed": false,
    "pycharm": {
     "name": "#%%\n"
    }
   }
  },
  {
   "cell_type": "code",
   "execution_count": 5,
   "outputs": [
    {
     "name": "stdout",
     "output_type": "stream",
     "text": [
      "done\n"
     ]
    }
   ],
   "source": [
    "# Calcualtion of Keltner Channels\n",
    "def KELCH(df, n, stock):\n",
    "    KelChM = pd.Series(((indicators_df.loc[(indicators_df['persian_symbol'] == stock), 'max_price'] +\n",
    "                         indicators_df.loc[(indicators_df['persian_symbol'] == stock), 'min_price'] +\n",
    "                         indicators_df.loc[(indicators_df['persian_symbol'] == stock), 'final_price']) / 3)\n",
    "                       .rolling(window =n, center=False).mean(), name = 'KelChM_' + str(n))\n",
    "\n",
    "    KelChU = pd.Series(((4 * indicators_df.loc[(indicators_df['persian_symbol'] == stock), 'max_price'] -\n",
    "                         2 * indicators_df.loc[(indicators_df['persian_symbol'] == stock), 'min_price'] +\n",
    "                         indicators_df.loc[(indicators_df['persian_symbol'] == stock), 'final_price']) / 3)\n",
    "                       .rolling(window =n, center=False).mean(), name = 'KelChU_' + str(n))\n",
    "\n",
    "    KelChD = pd.Series(((-2 * indicators_df.loc[(indicators_df['persian_symbol'] == stock), 'max_price'] +\n",
    "                         4 * indicators_df.loc[(indicators_df['persian_symbol'] == stock), 'min_price'] +\n",
    "                         indicators_df.loc[(indicators_df['persian_symbol'] == stock), 'final_price']) / 3)\n",
    "                       .rolling(window =n, center=False).mean(), name = 'KelChD_' + str(n))\n",
    "\n",
    "    return KelChM, KelChD, KelChU\n",
    "\n",
    "for stock in selected_symbols:\n",
    "    KelchM, KelchD, KelchU = KELCH(indicators_df, 4, stock)\n",
    "    indicators_df.loc[(indicators_df['persian_symbol'] == stock), 'Kelch_Upper'] = KelchU\n",
    "    indicators_df.loc[(indicators_df['persian_symbol'] == stock), 'Kelch_Middle'] = KelchM\n",
    "    indicators_df.loc[(indicators_df['persian_symbol'] == stock), 'Kelch_Down'] = KelchD\n",
    "\n",
    "indicators_df.fillna(0, inplace=True)\n",
    "\n",
    "indicators_df.to_csv(data_path + '\\\\' + 'selected_stocks_with_indicators.csv', encoding='utf-8-sig', index=False)\n",
    "print('done')\n",
    "\n"
   ],
   "metadata": {
    "collapsed": false,
    "pycharm": {
     "name": "#%%\n"
    }
   }
  },
  {
   "cell_type": "code",
   "execution_count": 6,
   "outputs": [
    {
     "name": "stdout",
     "output_type": "stream",
     "text": [
      "done\n"
     ]
    }
   ],
   "source": [
    "# Calculation of Triple Exponential Moving Average\n",
    "for stock in selected_symbols:\n",
    "    indicators_df.loc[(indicators_df['persian_symbol'] == stock), 'EMA'] = \\\n",
    "        indicators_df.loc[(indicators_df['persian_symbol'] == stock), 'final_price'].\\\n",
    "            ewm(span=3,min_periods=0,adjust=True,ignore_na=False).mean()\n",
    "\n",
    "    indicators_df.loc[(indicators_df['persian_symbol'] == stock), 'TEMA'] = \\\n",
    "        (3 * indicators_df.loc[(indicators_df['persian_symbol'] == stock), 'EMA'] -\n",
    "         3 * indicators_df.loc[(indicators_df['persian_symbol'] == stock), 'EMA'] *\n",
    "         indicators_df.loc[(indicators_df['persian_symbol'] == stock), 'EMA']) + \\\n",
    "        (indicators_df.loc[(indicators_df['persian_symbol'] == stock), 'EMA'] *\n",
    "         indicators_df.loc[(indicators_df['persian_symbol'] == stock), 'EMA'] *\n",
    "         indicators_df.loc[(indicators_df['persian_symbol'] == stock), 'EMA'])\n",
    "\n",
    "indicators_df.fillna(0, inplace=True)\n",
    "indicators_df.to_csv(data_path + '\\\\' + 'selected_stocks_with_indicators.csv', encoding='utf-8-sig', index=False)\n",
    "print('done')\n",
    "\n",
    "\n"
   ],
   "metadata": {
    "collapsed": false,
    "pycharm": {
     "name": "#%%\n"
    }
   }
  },
  {
   "cell_type": "code",
   "execution_count": 9,
   "outputs": [
    {
     "name": "stdout",
     "output_type": "stream",
     "text": [
      "done\n"
     ]
    }
   ],
   "source": [
    "# Calculation of Normalized Average True Range\n",
    "for stock in selected_symbols:\n",
    "    indicators_df.loc[(indicators_df['persian_symbol'] == stock), 'HL'] = \\\n",
    "        indicators_df.loc[(indicators_df['persian_symbol'] == stock), 'max_price'] - \\\n",
    "        indicators_df.loc[(indicators_df['persian_symbol'] == stock), 'min_price']\n",
    "\n",
    "    indicators_df.loc[(indicators_df['persian_symbol'] == stock), 'absHC'] = \\\n",
    "        abs(indicators_df.loc[(indicators_df['persian_symbol'] == stock), 'max_price'] -\n",
    "            indicators_df.loc[(indicators_df['persian_symbol'] == stock), 'final_price'].shift(1))\n",
    "\n",
    "    indicators_df.loc[(indicators_df['persian_symbol'] == stock), 'absLC'] = \\\n",
    "        abs(indicators_df.loc[(indicators_df['persian_symbol'] == stock), 'min_price'] -\n",
    "            indicators_df.loc[(indicators_df['persian_symbol'] == stock), 'final_price'].shift(1))\n",
    "\n",
    "    indicators_df.loc[(indicators_df['persian_symbol'] == stock), 'TR'] = \\\n",
    "        indicators_df.loc[(indicators_df['persian_symbol'] == stock), ('HL','absHC','absLC')].max(axis=1)\n",
    "\n",
    "    indicators_df.loc[(indicators_df['persian_symbol'] == stock), 'ATR'] = \\\n",
    "        indicators_df.loc[(indicators_df['persian_symbol'] == stock), 'TR'].rolling(window=4).mean()\n",
    "\n",
    "    indicators_df.loc[(indicators_df['persian_symbol'] == stock), 'NATR'] = \\\n",
    "        (indicators_df.loc[(indicators_df['persian_symbol'] == stock), 'ATR'] /\n",
    "         indicators_df.loc[(indicators_df['persian_symbol'] == stock), 'final_price']) *100\n",
    "\n",
    "indicators_df.fillna(0, inplace=True)\n",
    "indicators_df.to_csv(data_path + '\\\\' + 'selected_stocks_with_indicators.csv', encoding='utf-8-sig', index=False)\n",
    "print('done')\n",
    "\n"
   ],
   "metadata": {
    "collapsed": false,
    "pycharm": {
     "name": "#%%\n"
    }
   }
  }
 ],
 "metadata": {
  "kernelspec": {
   "display_name": "Python 3",
   "language": "python",
   "name": "python3"
  },
  "language_info": {
   "codemirror_mode": {
    "name": "ipython",
    "version": 2
   },
   "file_extension": ".py",
   "mimetype": "text/x-python",
   "name": "python",
   "nbconvert_exporter": "python",
   "pygments_lexer": "ipython2",
   "version": "2.7.6"
  }
 },
 "nbformat": 4,
 "nbformat_minor": 0
}